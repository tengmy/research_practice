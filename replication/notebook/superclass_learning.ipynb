{
 "cells": [
  {
   "cell_type": "code",
   "execution_count": null,
   "outputs": [],
   "source": [
    "import os, sys, time, re, pickle, datetime as dt\n",
    "import warnings\n",
    "warnings.filterwarnings(\"ignore\")\n",
    "\n",
    "import keras\n",
    "from keras import regularizers\n",
    "from keras.models import Model, Sequential, load_model\n",
    "from keras.layers import Input, Dense, Dropout, Activation, Flatten, concatenate, Merge, Conv2D, MaxPooling2D\n",
    "from keras.callbacks import Callback, ReduceLROnPlateau, ModelCheckpoint, CSVLogger\n",
    "from keras.preprocessing import image\n",
    "from keras.preprocessing.image import ImageDataGenerator\n",
    "\n",
    "import numpy as np\n",
    "import pandas as pd\n",
    "import seaborn as sns\n",
    "\n",
    "from sklearn.svm import SVC\n",
    "from sklearn.linear_model import LogisticRegressionCV\n",
    "from sklearn.ensemble import RandomForestClassifier\n",
    "from sklearn.model_selection import GridSearchCV\n",
    "from sklearn.model_selection import train_test_split\n",
    "from sklearn import metrics\n",
    "\n",
    "#from tqdm import tqdm\n",
    "\n",
    "%matplotlib inline\n",
    "import matplotlib\n",
    "import matplotlib.pyplot as plt\n",
    "import matplotlib.image as mpimg\n",
    "from mpl_toolkits.axes_grid1 import ImageGrid\n",
    "\n",
    "plt.rcParams['figure.figsize'] = [16, 10]\n",
    "plt.rcParams['font.size'] = 16\n",
    "\n",
    "sns.set_palette('muted',color_codes=True)\n",
    "vc_color = '#B5C9EB'"
   ],
   "metadata": {
    "collapsed": false,
    "pycharm": {
     "name": "#%%\n"
    }
   }
  },
  {
   "cell_type": "code",
   "execution_count": null,
   "outputs": [],
   "source": [
    "# DATA_DIR = \"../data/raw/\"\n",
    "# TRAIN_DIR = DATA_DIR + \"color_train/\"\n",
    "# VAL_DIR = DATA_DIR + \"color_validation/\"\n",
    "# EXPORT_DIR = \"../models/\""
   ],
   "metadata": {
    "collapsed": false,
    "pycharm": {
     "name": "#%%\n"
    }
   }
  },
  {
   "cell_type": "code",
   "execution_count": null,
   "outputs": [],
   "source": [
    "# For compatibility with folder structure on BR's computer\n",
    "DATA_DIR = \"../data/raw/plant_diseases/color/30_70_hr\"\n",
    "TRAIN_DIR = DATA_DIR + \"/train/\"\n",
    "VAL_DIR = DATA_DIR + \"/validation/\"\n",
    "EXPORT_DIR = \"../models/\""
   ],
   "metadata": {
    "collapsed": false,
    "pycharm": {
     "name": "#%%\n"
    }
   }
  },
  {
   "cell_type": "code",
   "execution_count": null,
   "outputs": [],
   "source": [
    "IM_WIDTH, IM_HEIGHT = 64, 64\n",
    "BATCH_SIZE = 16"
   ],
   "metadata": {
    "collapsed": false,
    "pycharm": {
     "name": "#%%\n"
    }
   }
  },
  {
   "cell_type": "code",
   "execution_count": null,
   "outputs": [],
   "source": [
    "# Get image classes\n",
    "classes = os.listdir(TRAIN_DIR)\n",
    "superclasses = list(set([x.split(\"_\")[0] for x in classes]))\n",
    "superclasses.sort()\n",
    "num_classes = len(classes)\n",
    "num_superclasses = len(superclasses)\n",
    "\n",
    "# Get path and label for each image\n",
    "db = []\n",
    "for label, class_name in enumerate(classes):\n",
    "    \n",
    "    superclass_name = class_name.split(\"_\")[0]\n",
    "    \n",
    "    # Train\n",
    "    path = TRAIN_DIR + class_name\n",
    "    for file in os.listdir(path):\n",
    "        db.append(['{}/{}'.format(class_name, file), label, class_name, superclass_name, 1])\n",
    "\n",
    "    # Validation\n",
    "    path = VAL_DIR + class_name\n",
    "    for file in os.listdir(path):\n",
    "        db.append(['{}/{}'.format(class_name, file), label, class_name, superclass_name, 0])\n",
    "\n",
    "db = pd.DataFrame(db, columns=['file', 'label', 'class_name', 'superclass', 'train_ind'])\n",
    "\n",
    "num_train_samples = db.train_ind.sum()\n",
    "num_val_samples = len(db) - num_train_samples"
   ],
   "metadata": {
    "collapsed": false,
    "pycharm": {
     "name": "#%%\n"
    }
   }
  },
  {
   "cell_type": "code",
   "execution_count": null,
   "outputs": [],
   "source": [
    "db.head()"
   ],
   "metadata": {
    "collapsed": false,
    "pycharm": {
     "name": "#%%\n"
    }
   }
  },
  {
   "cell_type": "code",
   "execution_count": null,
   "outputs": [],
   "source": [
    "# Specify data generator inputs\n",
    "train_datagen = ImageDataGenerator(\n",
    "    rescale=1/255,\n",
    "    rotation_range=30,\n",
    "    width_shift_range=0.2,\n",
    "    height_shift_range=0.2,\n",
    "    shear_range=0.2,\n",
    "    zoom_range=0.2,\n",
    "    horizontal_flip=True\n",
    ")\n",
    "test_datagen = ImageDataGenerator(\n",
    "    rescale=1/255)"
   ],
   "metadata": {
    "collapsed": false,
    "pycharm": {
     "name": "#%%\n"
    }
   }
  },
  {
   "cell_type": "code",
   "execution_count": null,
   "outputs": [],
   "source": [
    "# Create data generators\n",
    "train_generator = train_datagen.flow_from_directory(\n",
    "    TRAIN_DIR,\n",
    "    target_size=(IM_WIDTH, IM_HEIGHT),\n",
    "    batch_size=BATCH_SIZE,\n",
    "#     interpolation=\"bicubic\"\n",
    ")\n",
    "validation_generator = test_datagen.flow_from_directory(\n",
    "    VAL_DIR,\n",
    "    target_size=(IM_WIDTH, IM_HEIGHT),\n",
    "    batch_size=BATCH_SIZE,\n",
    "#     interpolation=\"bicubic\"\n",
    ")"
   ],
   "metadata": {
    "collapsed": false,
    "pycharm": {
     "name": "#%%\n"
    }
   }
  },
  {
   "cell_type": "code",
   "execution_count": null,
   "outputs": [],
   "source": [
    "class_id2superclass_id = np.array([superclasses.index(x.split(\"_\")[0]) for x in classes])\n",
    "\n",
    "def wills_two_label_generator(existing_generator, class_id2superclass_id):\n",
    "    for x_data, class_one_hots in existing_generator:\n",
    "        #look up superclass ids\n",
    "        superclass_ids = np.dot(class_one_hots,class_id2superclass_id)\n",
    "        #one-hot-encode\n",
    "        batch_size = superclass_ids.shape[0]\n",
    "        superclass_one_hots = np.zeros((batch_size, num_superclasses))\n",
    "        superclass_one_hots[np.arange(batch_size), superclass_ids.astype(int)] = 1\n",
    "\n",
    "        yield(x_data, {'class_output': class_one_hots, 'superclass_output': superclass_one_hots} )"
   ],
   "metadata": {
    "collapsed": false,
    "pycharm": {
     "name": "#%%\n"
    }
   }
  },
  {
   "cell_type": "code",
   "execution_count": null,
   "outputs": [],
   "source": [
    "# Initiate optimizer\n",
    "opt = keras.optimizers.adam(lr=0.001)\n",
    "reduce_lr = ReduceLROnPlateau(monitor='val_acc', factor=0.2, patience=5, cooldown=5)"
   ],
   "metadata": {
    "collapsed": false,
    "pycharm": {
     "name": "#%%\n"
    }
   }
  },
  {
   "cell_type": "code",
   "execution_count": null,
   "outputs": [],
   "source": [
    "def plot_history(history, ax, categories, labels, yaxis_label = 'Accuracy'):\n",
    "    for cat, lab in zip(categories, labels):\n",
    "        ax.plot(history[cat], label=lab)\n",
    "    ax.set_xlabel('Epochs')\n",
    "    ax.set_ylabel(yaxis_label)\n",
    "    ax.legend(loc='best')"
   ],
   "metadata": {
    "collapsed": false,
    "pycharm": {
     "name": "#%%\n"
    }
   }
  },
  {
   "cell_type": "markdown",
   "source": [
    "## Build Low-Parameter Superclass Model"
   ],
   "metadata": {
    "collapsed": false,
    "pycharm": {
     "name": "#%% md\n"
    }
   }
  },
  {
   "cell_type": "code",
   "execution_count": null,
   "outputs": [],
   "source": [
    "main_input_super = Input(shape=(IM_WIDTH, IM_HEIGHT, 3, ), dtype='float32', name='image_input')\n",
    "\n",
    "#shared origin 1\n",
    "conv_leaf_0 = Conv2D(32, (3, 3), padding = 'valid', activation = 'relu', name='shared_conv')(main_input_super)\n",
    "pooled_leaf_0 = MaxPooling2D(pool_size =(2,2), name='shared_pool')(conv_leaf_0)\n",
    "\n",
    "#leaf block 1\n",
    "conv_leaf_1 = Conv2D(16, (3, 3), padding = 'valid', activation = 'relu', name='leaf_conv')(pooled_leaf_0)\n",
    "pooled_leaf_1 = MaxPooling2D(pool_size =(2,2), name='leaf_pool')(conv_leaf_1)\n",
    "dropped_leaf_1 = Dropout(0.10, name='leaf_conv_drop')(pooled_leaf_1)\n",
    "\n",
    "#disease block 1\n",
    "conv_disease_1_2 = Conv2D(64, (3, 3), padding = 'valid', activation = 'relu', name='disease_conv')(pooled_leaf_0)\n",
    "pooled_disease_1 = MaxPooling2D(pool_size =(2,2), name='disease_pool')(conv_disease_1_2)\n",
    "dropped_disease_1 = Dropout(0.10, name='disease_conv_drop')(pooled_disease_1)\n",
    "\n",
    "#dense layer to predict leaf [plant type]\n",
    "flat_leaf = Flatten()(dropped_leaf_1)\n",
    "dense_leaf_1 = Dense(32, activation = 'relu')(flat_leaf) # Using less layers here as accuracy is less important\n",
    "dense_leaf_drop = Dropout(0.3, name='leaf_dense_drop')(dense_leaf_1)\n",
    "leaf_prediction = Dense(num_superclasses, activation = 'softmax', name='superclass_output')(dense_leaf_drop)\n",
    "\n",
    "# dense layer to predict disease [plant type+disease type]\n",
    "flat_disease_super = Flatten()(dropped_disease_1)\n",
    "dense_disease_super = Dense(64, activation = 'relu')(flat_disease_super)\n",
    "\n",
    "# combine networks and perform final categorization\n",
    "combined_dense_disease = concatenate([dense_disease_super, leaf_prediction], axis=-1, name='final_combination')\n",
    "dense_disease_drop = Dropout(0.3, name='final_drop')(combined_dense_disease)\n",
    "disease_prediction = Dense(num_classes, activation = 'softmax', name='class_output')(dense_disease_drop)\n",
    "model_superclass = Model(inputs=[main_input_super], outputs=[disease_prediction, leaf_prediction])"
   ],
   "metadata": {
    "collapsed": false,
    "pycharm": {
     "name": "#%%\n"
    }
   }
  },
  {
   "cell_type": "code",
   "execution_count": null,
   "outputs": [],
   "source": [
    "# Compile model\n",
    "model_superclass.compile(loss='categorical_crossentropy', optimizer=opt, metrics=['accuracy'])\n",
    "model_superclass.summary()"
   ],
   "metadata": {
    "collapsed": false,
    "pycharm": {
     "name": "#%%\n"
    }
   }
  },
  {
   "cell_type": "code",
   "execution_count": null,
   "outputs": [],
   "source": [
    "# Set up callbacks\n",
    "model_name = \"superclass_model\"\n",
    "filepath = EXPORT_DIR + model_name + \".hdf5\"\n",
    "checkpoint = ModelCheckpoint(filepath, monitor='val_acc', mode='max', verbose=1, save_best_only=True)\n",
    "\n",
    "filepath = EXPORT_DIR + model_name + \".csv\"\n",
    "csv_logger = CSVLogger(filepath)\n",
    "\n",
    "callbacks_list = [checkpoint, reduce_lr, csv_logger]"
   ],
   "metadata": {
    "collapsed": false,
    "pycharm": {
     "name": "#%%\n"
    }
   }
  },
  {
   "cell_type": "code",
   "execution_count": null,
   "outputs": [],
   "source": [
    "# Fit generator\n",
    "results = model_superclass.fit_generator(\n",
    "    wills_two_label_generator(train_generator, class_id2superclass_id), epochs=40, steps_per_epoch=500, \n",
    "    validation_data=wills_two_label_generator(validation_generator, class_id2superclass_id), validation_steps=500,\n",
    "    callbacks=callbacks_list)"
   ],
   "metadata": {
    "collapsed": false,
    "pycharm": {
     "name": "#%%\n"
    }
   }
  },
  {
   "cell_type": "code",
   "execution_count": null,
   "outputs": [],
   "source": [
    "fig, ax = plt.subplots(figsize=(10,6))\n",
    "plot_history(results.history, ax,\n",
    "             ['class_output_acc', 'superclass_output_acc', 'val_class_output_acc', 'val_superclass_output_acc'],\n",
    "             ['Class Train', 'Superclass Train', 'Class Test', 'Superclass Test'])"
   ],
   "metadata": {
    "collapsed": false,
    "pycharm": {
     "name": "#%%\n"
    }
   }
  },
  {
   "cell_type": "code",
   "execution_count": null,
   "outputs": [],
   "source": [
    "with open('./train_history/superclass_lowparams.hist', 'wb') as file_pi:\n",
    "        pickle.dump(results.history, file_pi)"
   ],
   "metadata": {
    "collapsed": false,
    "pycharm": {
     "name": "#%%\n"
    }
   }
  },
  {
   "cell_type": "markdown",
   "source": [
    "## Build Low-Parameter Baseline Model"
   ],
   "metadata": {
    "collapsed": false,
    "pycharm": {
     "name": "#%% md\n"
    }
   }
  },
  {
   "cell_type": "code",
   "execution_count": null,
   "outputs": [],
   "source": [
    "# Already defined\n",
    "main_input_base = Input(shape=(IM_WIDTH, IM_HEIGHT, 3, ), dtype='float32', name='image_input')\n",
    "#shared origin 1\n",
    "conv_leaf_base = Conv2D(32, (3, 3), padding = 'valid', activation = 'relu', name='shared_conv')(main_input_base)\n",
    "pooled_leaf_base = MaxPooling2D(pool_size =(2,2), name='shared_pool')(conv_leaf_base)\n",
    "\n",
    "\n",
    "# Not using\n",
    "# #leaf block 1\n",
    "# conv_leaf_1_2 = Conv2D(16, (3, 3), padding = 'valid', activation = 'relu', name='leaf_conv')(pooled_leaf_0)\n",
    "# pooled_leaf_1 = MaxPooling2D(pool_size =(2,2), name='leaf_pool')(conv_leaf_1_2)\n",
    "# dropped_leaf_1 = Dropout(0.10, name='leaf_conv_drop')(pooled_leaf_1)\n",
    "\n",
    "#disease block 1\n",
    "conv_disease_base = Conv2D(64, (3, 3), padding = 'valid', activation = 'relu', name='disease_conv')(pooled_leaf_base)\n",
    "pooled_disease_base = MaxPooling2D(pool_size =(2,2), name='disease_pool')(conv_disease_base)\n",
    "dropped_disease_base = Dropout(0.10, name='disease_conv_drop')(pooled_disease_base)\n",
    "\n",
    "# dense layer to predict disease [plant type+disease type]\n",
    "flat_disease_base = Flatten()(dropped_disease_base)\n",
    "dense_disease_base = Dense(64, activation = 'relu')(flat_disease_base)\n",
    "dense_disease_base_drop = Dropout(0.3)(dense_disease_base)\n",
    "\n",
    "disease_prediction_base = Dense(num_classes, activation = 'softmax', name='class_output')(dense_disease_base_drop)\n",
    "model_base = Model(inputs=[main_input_base], outputs=[disease_prediction_base])"
   ],
   "metadata": {
    "collapsed": false,
    "pycharm": {
     "name": "#%%\n"
    }
   }
  },
  {
   "cell_type": "code",
   "execution_count": null,
   "outputs": [],
   "source": [
    "model_base.compile(loss='categorical_crossentropy',\n",
    "              optimizer=opt,\n",
    "              metrics=['accuracy'])"
   ],
   "metadata": {
    "collapsed": false,
    "pycharm": {
     "name": "#%%\n"
    }
   }
  },
  {
   "cell_type": "code",
   "execution_count": null,
   "outputs": [],
   "source": [
    "model_base.summary()"
   ],
   "metadata": {
    "collapsed": false,
    "pycharm": {
     "name": "#%%\n"
    }
   }
  },
  {
   "cell_type": "code",
   "execution_count": null,
   "outputs": [],
   "source": [
    "# Set up callbacks\n",
    "model_name = \"base_of_superclass_lowparams\"\n",
    "filepath = EXPORT_DIR + model_name + \".hdf5\"\n",
    "checkpoint = ModelCheckpoint(filepath, monitor='val_acc', mode='max', verbose=1, save_best_only=True)\n",
    "\n",
    "filepath = EXPORT_DIR + model_name + \".csv\"\n",
    "csv_logger = CSVLogger(filepath)\n",
    "\n",
    "callbacks_list = [checkpoint, reduce_lr, csv_logger]"
   ],
   "metadata": {
    "collapsed": false,
    "pycharm": {
     "name": "#%%\n"
    }
   }
  },
  {
   "cell_type": "code",
   "execution_count": null,
   "outputs": [],
   "source": [
    "# Fit generator\n",
    "results_base = model_base.fit_generator( train_generator, epochs=40, steps_per_epoch=500, \n",
    "    validation_data=validation_generator, validation_steps=500, callbacks=callbacks_list)"
   ],
   "metadata": {
    "collapsed": false,
    "pycharm": {
     "name": "#%%\n"
    }
   }
  },
  {
   "cell_type": "code",
   "execution_count": null,
   "outputs": [],
   "source": [
    "with open('./train_history/baseclass_lowparams.hist', 'wb') as file_pi:\n",
    "        pickle.dump(results_base.history, file_pi)"
   ],
   "metadata": {
    "collapsed": false,
    "pycharm": {
     "name": "#%%\n"
    }
   }
  },
  {
   "cell_type": "code",
   "execution_count": null,
   "outputs": [],
   "source": [
    "fig, ax = plt.subplots(figsize=(10,6))\n",
    "plot_history(results_base.history, ax,\n",
    "             ['acc', 'val_acc'],\n",
    "             ['Base Train', 'Base Test'])"
   ],
   "metadata": {
    "collapsed": false,
    "pycharm": {
     "name": "#%%\n"
    }
   }
  },
  {
   "cell_type": "code",
   "execution_count": null,
   "outputs": [],
   "source": [
    "fig, ax = plt.subplots(figsize=(10,6))\n",
    "plot_history(results.history, ax,\n",
    "             ['class_output_acc', 'val_class_output_acc', 'superclass_output_acc', 'val_superclass_output_acc'],\n",
    "             ['Superclass Disease Train', 'Superclass Disease Test', 'Superclass Leaf Train', 'Superclass Leaf Test'])\n",
    "plot_history(results_base.history, ax,\n",
    "             ['acc', 'val_acc'],\n",
    "             ['Base Disease Train', 'Base Disease Test'])\n",
    "\n",
    "fig.savefig(\"./images/superclass_comparison_lowres_full.png\")"
   ],
   "metadata": {
    "collapsed": false,
    "pycharm": {
     "name": "#%%\n"
    }
   }
  },
  {
   "cell_type": "code",
   "execution_count": null,
   "outputs": [],
   "source": [
    "fig, ax = plt.subplots(figsize=(10,6))\n",
    "plot_history(results.history, ax,\n",
    "             ['val_class_output_acc', 'val_superclass_output_acc'],\n",
    "             ['Superclass Disease', 'Superclass Leaf'])\n",
    "plot_history(results_base.history, ax,\n",
    "             ['val_acc'],\n",
    "             ['Base Disease'], yaxis_label=\"Validation Accuracy\")\n",
    "\n",
    "fig.savefig(\"./images/superclass_comparison_lowres.png\")"
   ],
   "metadata": {
    "collapsed": false,
    "pycharm": {
     "name": "#%%\n"
    }
   }
  },
  {
   "cell_type": "markdown",
   "source": [
    "## Build High-Parameter Baseline Model"
   ],
   "metadata": {
    "collapsed": false,
    "pycharm": {
     "name": "#%% md\n"
    }
   }
  },
  {
   "cell_type": "code",
   "execution_count": null,
   "outputs": [],
   "source": [
    "# Already defined\n",
    "main_input_base2 = Input(shape=(IM_WIDTH, IM_HEIGHT, 3, ), dtype='float32', name='image_input')\n",
    "#shared origin 1\n",
    "conv_leaf_base2 = Conv2D(128, (3, 3), padding = 'valid', activation = 'relu', name='shared_conv')(main_input_base2)\n",
    "pooled_leaf_base2 = MaxPooling2D(pool_size =(2,2), name='shared_pool')(conv_leaf_base2)\n",
    "\n",
    "#disease block 1\n",
    "conv_disease_base2 = Conv2D(128, (3, 3), padding = 'valid', activation = 'relu', name='disease_conv')(pooled_leaf_base2)\n",
    "pooled_disease_base2 = MaxPooling2D(pool_size =(2,2), name='disease_pool')(conv_disease_base2)\n",
    "dropped_disease_base2 = Dropout(0.10, name='disease_conv_drop')(pooled_disease_base2)\n",
    "\n",
    "# dense layer to predict disease [plant type+disease type]\n",
    "flat_disease_base2 = Flatten()(dropped_disease_base2)\n",
    "dense_disease_base2 = Dense(128, activation = 'relu')(flat_disease_base2)\n",
    "dense_disease_base_drop2 = Dropout(0.3)(dense_disease_base2)\n",
    "\n",
    "disease_prediction_base2 = Dense(num_classes, activation = 'softmax', name='class_output')(dense_disease_base_drop2)\n",
    "model_base2 = Model(inputs=[main_input_base2], outputs=[disease_prediction_base2])"
   ],
   "metadata": {
    "collapsed": false,
    "pycharm": {
     "name": "#%%\n"
    }
   }
  },
  {
   "cell_type": "code",
   "execution_count": null,
   "outputs": [],
   "source": [
    "model_base2.summary()"
   ],
   "metadata": {
    "collapsed": false,
    "pycharm": {
     "name": "#%%\n"
    }
   }
  },
  {
   "cell_type": "code",
   "execution_count": null,
   "outputs": [],
   "source": [
    "model_base2.compile(loss='categorical_crossentropy', optimizer=opt, metrics=['accuracy'])"
   ],
   "metadata": {
    "collapsed": false,
    "pycharm": {
     "name": "#%%\n"
    }
   }
  },
  {
   "cell_type": "code",
   "execution_count": null,
   "outputs": [],
   "source": [
    "# Set up callbacks\n",
    "model_name = \"base_of_superclass_highparam_model\"\n",
    "filepath = EXPORT_DIR + model_name + \".hdf5\"\n",
    "checkpoint = ModelCheckpoint(filepath, monitor='val_acc', mode='max', verbose=1, save_best_only=True)\n",
    "\n",
    "filepath = EXPORT_DIR + model_name + \".csv\"\n",
    "csv_logger = CSVLogger(filepath)\n",
    "callbacks_list = [checkpoint, reduce_lr, csv_logger]"
   ],
   "metadata": {
    "collapsed": false,
    "pycharm": {
     "name": "#%%\n"
    }
   }
  },
  {
   "cell_type": "code",
   "execution_count": null,
   "outputs": [],
   "source": [
    "# Fit generator\n",
    "results_base2 = model_base2.fit_generator( train_generator, epochs=40, steps_per_epoch=500, \n",
    "    validation_data=validation_generator, validation_steps=500, callbacks=callbacks_list)"
   ],
   "metadata": {
    "collapsed": false,
    "pycharm": {
     "name": "#%%\n"
    }
   }
  },
  {
   "cell_type": "code",
   "execution_count": null,
   "outputs": [],
   "source": [
    "fig, ax = plt.subplots(figsize=(10,6))\n",
    "plot_history(results_base2.history, ax,\n",
    "             ['acc', 'val_acc'],\n",
    "             ['Base Train', 'Base Test'])"
   ],
   "metadata": {
    "collapsed": false,
    "pycharm": {
     "name": "#%%\n"
    }
   }
  },
  {
   "cell_type": "code",
   "execution_count": null,
   "outputs": [],
   "source": [
    "with open('./train_history/baseclass_highparams.hist', 'wb') as file_pi:\n",
    "        pickle.dump(results_base2.history, file_pi)"
   ],
   "metadata": {
    "collapsed": false,
    "pycharm": {
     "name": "#%%\n"
    }
   }
  },
  {
   "cell_type": "markdown",
   "source": [
    "## Build High-Parameter Baseline Model"
   ],
   "metadata": {
    "collapsed": false,
    "pycharm": {
     "name": "#%% md\n"
    }
   }
  },
  {
   "cell_type": "code",
   "execution_count": null,
   "outputs": [],
   "source": [],
   "metadata": {
    "collapsed": false,
    "pycharm": {
     "name": "#%%\n"
    }
   }
  },
  {
   "cell_type": "code",
   "execution_count": null,
   "outputs": [],
   "source": [],
   "metadata": {
    "collapsed": false,
    "pycharm": {
     "name": "#%%\n"
    }
   }
  },
  {
   "cell_type": "code",
   "execution_count": null,
   "outputs": [],
   "source": [],
   "metadata": {
    "collapsed": false,
    "pycharm": {
     "name": "#%%\n"
    }
   }
  },
  {
   "cell_type": "code",
   "execution_count": null,
   "outputs": [],
   "source": [
    "main_input_super2 = Input(shape=(IM_WIDTH, IM_HEIGHT, 3, ), dtype='float32', name='image_input')\n",
    "\n",
    "#shared origin 1\n",
    "conv_super2 = Conv2D(128, (3, 3), padding = 'valid', activation = 'relu', name='shared_conv')(main_input_super2)\n",
    "pooled_super2 = MaxPooling2D(pool_size =(2,2), name='shared_pool')(conv_super2)\n",
    "\n",
    "#leaf block 1\n",
    "conv_leaf_super2 = Conv2D(32, (3, 3), padding = 'valid', activation = 'relu', name='leaf_conv')(pooled_super2)\n",
    "pooled_leaf_super2 = MaxPooling2D(pool_size =(2,2), name='leaf_pool')(conv_leaf_super2)\n",
    "dropped_leaf_super2 = Dropout(0.10, name='leaf_conv_drop')(pooled_leaf_super2)\n",
    "\n",
    "#disease block 1\n",
    "conv_disease_super2 = Conv2D(128, (3, 3), padding = 'valid', activation = 'relu', name='disease_conv')(pooled_super2)\n",
    "pooled_disease_super2 = MaxPooling2D(pool_size =(2,2), name='disease_pool')(conv_disease_super2)\n",
    "dropped_disease_super2 = Dropout(0.10, name='disease_conv_drop')(pooled_disease_super2)\n",
    "\n",
    "#dense layer to predict leaf [plant type]\n",
    "flat_leaf_super2 = Flatten()(dropped_leaf_super2)\n",
    "dense_leaf_super2 = Dense(64, activation = 'relu')(flat_leaf_super2) # Using less layers here as accuracy is less important\n",
    "dense_leaf_drop_super2 = Dropout(0.3, name='leaf_dense_drop')(dense_leaf_super2)\n",
    "leaf_prediction_super2 = Dense(num_superclasses, activation = 'softmax', name='superclass_output')(dense_leaf_drop_super2)\n",
    "\n",
    "# dense layer to predict disease [plant type+disease type]\n",
    "flat_disease_super2 = Flatten()(dropped_disease_super2)\n",
    "dense_disease_super2 = Dense(128, activation = 'relu')(flat_disease_super2)\n",
    "\n",
    "# combine networks and perform final categorization\n",
    "combined_dense_disease_super2 = concatenate([dense_disease_super2, leaf_prediction_super2], axis=-1, name='final_combined')\n",
    "dense_disease_drop_super2 = Dropout(0.3, name='final_drop')(combined_dense_disease_super2)\n",
    "\n",
    "disease_prediction_super2 = Dense(num_classes, activation = 'softmax', name='class_output')(dense_disease_drop_super2)\n",
    "model_superclass_2 = Model(inputs=[main_input_super2], outputs=[disease_prediction_super2, leaf_prediction_super2])"
   ],
   "metadata": {
    "collapsed": false,
    "pycharm": {
     "name": "#%%\n"
    }
   }
  },
  {
   "cell_type": "code",
   "execution_count": null,
   "outputs": [],
   "source": [
    "model_superclass_2.summary()"
   ],
   "metadata": {
    "collapsed": false,
    "pycharm": {
     "name": "#%%\n"
    }
   }
  },
  {
   "cell_type": "code",
   "execution_count": null,
   "outputs": [],
   "source": [
    "# Compile model\n",
    "model_superclass_2.compile(loss='categorical_crossentropy', optimizer=opt, metrics=['accuracy'])"
   ],
   "metadata": {
    "collapsed": false,
    "pycharm": {
     "name": "#%%\n"
    }
   }
  },
  {
   "cell_type": "code",
   "execution_count": null,
   "outputs": [],
   "source": [
    "# Set up callbacks\n",
    "model_name = \"superclass_model_highparams\"\n",
    "filepath = EXPORT_DIR + model_name + \".hdf5\"\n",
    "checkpoint = ModelCheckpoint(filepath, monitor='val_acc', mode='max', verbose=1, save_best_only=True)\n",
    "\n",
    "filepath = EXPORT_DIR + model_name + \".csv\"\n",
    "csv_logger = CSVLogger(filepath)\n",
    "\n",
    "callbacks_list = [checkpoint, reduce_lr, csv_logger]"
   ],
   "metadata": {
    "collapsed": false,
    "pycharm": {
     "name": "#%%\n"
    }
   }
  },
  {
   "cell_type": "code",
   "execution_count": null,
   "outputs": [],
   "source": [],
   "metadata": {
    "collapsed": false,
    "pycharm": {
     "name": "#%%\n"
    }
   }
  },
  {
   "cell_type": "code",
   "execution_count": null,
   "outputs": [],
   "source": [],
   "metadata": {
    "collapsed": false,
    "pycharm": {
     "name": "#%%\n"
    }
   }
  },
  {
   "cell_type": "code",
   "execution_count": null,
   "outputs": [],
   "source": [],
   "metadata": {
    "collapsed": false,
    "pycharm": {
     "name": "#%%\n"
    }
   }
  },
  {
   "cell_type": "code",
   "execution_count": null,
   "outputs": [],
   "source": [],
   "metadata": {
    "collapsed": false,
    "pycharm": {
     "name": "#%%\n"
    }
   }
  },
  {
   "cell_type": "code",
   "execution_count": null,
   "outputs": [],
   "source": [
    "# Fit generator\n",
    "results_superclass2 = model_superclass_2.fit_generator(\n",
    "    wills_two_label_generator(train_generator, class_id2superclass_id),\n",
    "    epochs=40,\n",
    "    steps_per_epoch=500, \n",
    "    validation_data=wills_two_label_generator(validation_generator, class_id2superclass_id),\n",
    "    validation_steps=500,\n",
    "    callbacks=callbacks_list)"
   ],
   "metadata": {
    "collapsed": false,
    "pycharm": {
     "name": "#%%\n"
    }
   }
  },
  {
   "cell_type": "code",
   "execution_count": null,
   "outputs": [],
   "source": [],
   "metadata": {
    "collapsed": false,
    "pycharm": {
     "name": "#%%\n"
    }
   }
  },
  {
   "cell_type": "code",
   "execution_count": null,
   "outputs": [],
   "source": [
    "fig, ax = plt.subplots(figsize=(10,6))\n",
    "plot_learning_curve(results_superclass2, ax)"
   ],
   "metadata": {
    "collapsed": false,
    "pycharm": {
     "name": "#%%\n"
    }
   }
  },
  {
   "cell_type": "code",
   "execution_count": null,
   "outputs": [],
   "source": [
    "with open('./train_history/superclass_highparams.hist', 'wb') as file_pi:\n",
    "        pickle.dump(results_superclass2.history, file_pi)"
   ],
   "metadata": {
    "collapsed": false,
    "pycharm": {
     "name": "#%%\n"
    }
   }
  },
  {
   "cell_type": "code",
   "execution_count": null,
   "outputs": [],
   "source": [
    "results_superclass2_load = pickle.load( open('./train_history/superclass_highparams.hist', \"rb\" ) )"
   ],
   "metadata": {
    "collapsed": false,
    "pycharm": {
     "name": "#%%\n"
    }
   }
  },
  {
   "cell_type": "code",
   "execution_count": null,
   "outputs": [],
   "source": [
    "type(results_superclass2.history)"
   ],
   "metadata": {
    "collapsed": false,
    "pycharm": {
     "name": "#%%\n"
    }
   }
  },
  {
   "cell_type": "code",
   "execution_count": null,
   "outputs": [],
   "source": [
    "results_superclass2_load.keys()"
   ],
   "metadata": {
    "collapsed": false,
    "pycharm": {
     "name": "#%%\n"
    }
   }
  },
  {
   "cell_type": "code",
   "execution_count": null,
   "outputs": [],
   "source": [
    "fig, ax = plt.subplots(figsize=(10,6))\n",
    "plot_history(results_superclass2_load, ax, \n",
    "             categories=['val_class_output_acc', 'val_superclass_output_acc'], \n",
    "             labels=['Class Test', 'Superclass Test'])"
   ],
   "metadata": {
    "collapsed": false,
    "pycharm": {
     "name": "#%%\n"
    }
   }
  },
  {
   "cell_type": "code",
   "execution_count": 28,
   "metadata": {},
   "outputs": [],
   "source": [
    "with open('./train_history/superclass_highparams.hist', 'wb') as file_pi:\n",
    "        pickle.dump(results_superclass2.history, file_pi)"
   ]
  },
  {
   "cell_type": "code",
   "execution_count": 30,
   "metadata": {},
   "outputs": [],
   "source": [
    "results_superclass2_load = pickle.load( open('./train_history/superclass_highparams.hist', \"rb\" ) )"
   ]
  },
  {
   "cell_type": "code",
   "execution_count": 33,
   "metadata": {},
   "outputs": [
    {
     "data": {
      "text/plain": [
       "dict"
      ]
     },
     "execution_count": 33,
     "metadata": {},
     "output_type": "execute_result"
    }
   ],
   "source": [
    "type(results_superclass2.history)"
   ]
  },
  {
   "cell_type": "code",
   "execution_count": 36,
   "metadata": {},
   "outputs": [
    {
     "data": {
      "text/plain": [
       "dict_keys(['val_loss', 'val_class_output_loss', 'val_superclass_output_loss', 'val_class_output_acc', 'val_superclass_output_acc', 'loss', 'class_output_loss', 'superclass_output_loss', 'class_output_acc', 'superclass_output_acc', 'lr'])"
      ]
     },
     "execution_count": 36,
     "metadata": {},
     "output_type": "execute_result"
    }
   ],
   "source": [
    "results_superclass2_load.keys()"
   ]
  },
  {
   "cell_type": "code",
   "execution_count": 37,
   "metadata": {
    "scrolled": true
   },
   "outputs": [
    {
     "data": {
      "image/png": "[encoded data removed]",
      "text/plain": [
       "<matplotlib.figure.Figure at 0x1a274e2c50>"
      ]
     },
     "metadata": {},
     "output_type": "display_data"
    }
   ],
   "source": [
    "fig, ax = plt.subplots(figsize=(10,6))\n",
    "plot_history(results_superclass2_load, ax, \n",
    "             categories=['val_class_output_acc', 'val_superclass_output_acc'], \n",
    "             labels=['Class Test', 'Superclass Test'])"
   ]
  }
 ],
 "metadata": {
  "kernelspec": {
   "display_name": "Python 3",
   "language": "python",
   "name": "python3"
  },
  "language_info": {
   "codemirror_mode": {
    "name": "ipython",
    "version": 3
   },
   "file_extension": ".py",
   "mimetype": "text/x-python",
   "name": "python",
   "nbconvert_exporter": "python",
   "pygments_lexer": "ipython3",
   "version": "3.6.4"
  }
 },
 "nbformat": 4,
 "nbformat_minor": 2
}