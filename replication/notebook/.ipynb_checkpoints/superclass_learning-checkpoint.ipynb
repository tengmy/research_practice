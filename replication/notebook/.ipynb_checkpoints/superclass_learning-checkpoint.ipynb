{
 "cells": [
  {
   "cell_type": "code",
   "execution_count": 15,
   "metadata": {},
   "outputs": [
    {
     "name": "stdout",
     "output_type": "stream",
     "text": [
      "Requirement already satisfied: tensorflow-gpu in /enc/udeprod_JWbGd/jupyter-venv/lib/python3.8/site-packages (2.9.1)\n",
      "Requirement already satisfied: absl-py>=1.0.0 in /enc/udeprod_JWbGd/jupyter-venv/lib/python3.8/site-packages (from tensorflow-gpu) (1.2.0)\n",
      "Requirement already satisfied: opt-einsum>=2.3.2 in /enc/udeprod_JWbGd/jupyter-venv/lib/python3.8/site-packages (from tensorflow-gpu) (3.3.0)\n",
      "Requirement already satisfied: tensorflow-estimator<2.10.0,>=2.9.0rc0 in /enc/udeprod_JWbGd/jupyter-venv/lib/python3.8/site-packages (from tensorflow-gpu) (2.9.0)\n",
      "Requirement already satisfied: termcolor>=1.1.0 in /enc/udeprod_JWbGd/jupyter-venv/lib/python3.8/site-packages (from tensorflow-gpu) (1.1.0)\n",
      "Requirement already satisfied: wrapt>=1.11.0 in /enc/udeprod_JWbGd/jupyter-venv/lib/python3.8/site-packages (from tensorflow-gpu) (1.14.1)\n",
      "Requirement already satisfied: setuptools in /enc/udeprod_JWbGd/jupyter-venv/lib/python3.8/site-packages (from tensorflow-gpu) (65.3.0)\n",
      "Requirement already satisfied: numpy>=1.20 in /enc/udeprod_JWbGd/jupyter-venv/lib/python3.8/site-packages (from tensorflow-gpu) (1.23.2)\n",
      "Requirement already satisfied: protobuf<3.20,>=3.9.2 in /enc/udeprod_JWbGd/jupyter-venv/lib/python3.8/site-packages (from tensorflow-gpu) (3.19.4)\n",
      "Requirement already satisfied: tensorboard<2.10,>=2.9 in /enc/udeprod_JWbGd/jupyter-venv/lib/python3.8/site-packages (from tensorflow-gpu) (2.9.1)\n",
      "Requirement already satisfied: flatbuffers<2,>=1.12 in /enc/udeprod_JWbGd/jupyter-venv/lib/python3.8/site-packages (from tensorflow-gpu) (1.12)\n",
      "Requirement already satisfied: google-pasta>=0.1.1 in /enc/udeprod_JWbGd/jupyter-venv/lib/python3.8/site-packages (from tensorflow-gpu) (0.2.0)\n",
      "Requirement already satisfied: six>=1.12.0 in /enc/udeprod_JWbGd/jupyter-venv/lib/python3.8/site-packages (from tensorflow-gpu) (1.16.0)\n",
      "Requirement already satisfied: packaging in /enc/udeprod_JWbGd/jupyter-venv/lib/python3.8/site-packages (from tensorflow-gpu) (21.3)\n",
      "Requirement already satisfied: typing-extensions>=3.6.6 in /enc/udeprod_JWbGd/jupyter-venv/lib/python3.8/site-packages (from tensorflow-gpu) (4.3.0)\n",
      "Requirement already satisfied: astunparse>=1.6.0 in /enc/udeprod_JWbGd/jupyter-venv/lib/python3.8/site-packages (from tensorflow-gpu) (1.6.3)\n",
      "Requirement already satisfied: tensorflow-io-gcs-filesystem>=0.23.1 in /enc/udeprod_JWbGd/jupyter-venv/lib/python3.8/site-packages (from tensorflow-gpu) (0.26.0)\n",
      "Requirement already satisfied: libclang>=13.0.0 in /enc/udeprod_JWbGd/jupyter-venv/lib/python3.8/site-packages (from tensorflow-gpu) (14.0.6)\n",
      "Requirement already satisfied: keras-preprocessing>=1.1.1 in /enc/udeprod_JWbGd/jupyter-venv/lib/python3.8/site-packages (from tensorflow-gpu) (1.1.2)\n",
      "Requirement already satisfied: gast<=0.4.0,>=0.2.1 in /enc/udeprod_JWbGd/jupyter-venv/lib/python3.8/site-packages (from tensorflow-gpu) (0.4.0)\n",
      "Requirement already satisfied: h5py>=2.9.0 in /enc/udeprod_JWbGd/jupyter-venv/lib/python3.8/site-packages (from tensorflow-gpu) (3.7.0)\n",
      "Requirement already satisfied: grpcio<2.0,>=1.24.3 in /enc/udeprod_JWbGd/jupyter-venv/lib/python3.8/site-packages (from tensorflow-gpu) (1.47.0)\n",
      "Requirement already satisfied: keras<2.10.0,>=2.9.0rc0 in /enc/udeprod_JWbGd/jupyter-venv/lib/python3.8/site-packages (from tensorflow-gpu) (2.9.0)\n",
      "Requirement already satisfied: wheel<1.0,>=0.23.0 in /enc/udeprod_JWbGd/jupyter-venv/lib/python3.8/site-packages (from astunparse>=1.6.0->tensorflow-gpu) (0.37.1)\n",
      "Requirement already satisfied: google-auth<3,>=1.6.3 in /enc/udeprod_JWbGd/jupyter-venv/lib/python3.8/site-packages (from tensorboard<2.10,>=2.9->tensorflow-gpu) (2.11.0)\n",
      "Requirement already satisfied: tensorboard-plugin-wit>=1.6.0 in /enc/udeprod_JWbGd/jupyter-venv/lib/python3.8/site-packages (from tensorboard<2.10,>=2.9->tensorflow-gpu) (1.8.1)\n",
      "Requirement already satisfied: requests<3,>=2.21.0 in /enc/udeprod_JWbGd/jupyter-venv/lib/python3.8/site-packages (from tensorboard<2.10,>=2.9->tensorflow-gpu) (2.28.1)\n",
      "Requirement already satisfied: tensorboard-data-server<0.7.0,>=0.6.0 in /enc/udeprod_JWbGd/jupyter-venv/lib/python3.8/site-packages (from tensorboard<2.10,>=2.9->tensorflow-gpu) (0.6.1)\n",
      "Requirement already satisfied: werkzeug>=1.0.1 in /enc/udeprod_JWbGd/jupyter-venv/lib/python3.8/site-packages (from tensorboard<2.10,>=2.9->tensorflow-gpu) (2.2.2)\n",
      "Requirement already satisfied: google-auth-oauthlib<0.5,>=0.4.1 in /enc/udeprod_JWbGd/jupyter-venv/lib/python3.8/site-packages (from tensorboard<2.10,>=2.9->tensorflow-gpu) (0.4.6)\n",
      "Requirement already satisfied: markdown>=2.6.8 in /enc/udeprod_JWbGd/jupyter-venv/lib/python3.8/site-packages (from tensorboard<2.10,>=2.9->tensorflow-gpu) (3.4.1)\n",
      "Requirement already satisfied: pyparsing!=3.0.5,>=2.0.2 in /enc/udeprod_JWbGd/jupyter-venv/lib/python3.8/site-packages (from packaging->tensorflow-gpu) (3.0.9)\n",
      "Requirement already satisfied: cachetools<6.0,>=2.0.0 in /enc/udeprod_JWbGd/jupyter-venv/lib/python3.8/site-packages (from google-auth<3,>=1.6.3->tensorboard<2.10,>=2.9->tensorflow-gpu) (5.2.0)\n",
      "Requirement already satisfied: pyasn1-modules>=0.2.1 in /enc/udeprod_JWbGd/jupyter-venv/lib/python3.8/site-packages (from google-auth<3,>=1.6.3->tensorboard<2.10,>=2.9->tensorflow-gpu) (0.2.8)\n",
      "Requirement already satisfied: rsa<5,>=3.1.4 in /enc/udeprod_JWbGd/jupyter-venv/lib/python3.8/site-packages (from google-auth<3,>=1.6.3->tensorboard<2.10,>=2.9->tensorflow-gpu) (4.9)\n",
      "Requirement already satisfied: requests-oauthlib>=0.7.0 in /enc/udeprod_JWbGd/jupyter-venv/lib/python3.8/site-packages (from google-auth-oauthlib<0.5,>=0.4.1->tensorboard<2.10,>=2.9->tensorflow-gpu) (1.3.1)\n",
      "Requirement already satisfied: importlib-metadata>=4.4 in /enc/udeprod_JWbGd/jupyter-venv/lib/python3.8/site-packages (from markdown>=2.6.8->tensorboard<2.10,>=2.9->tensorflow-gpu) (4.12.0)\n",
      "Requirement already satisfied: idna<4,>=2.5 in /enc/udeprod_JWbGd/jupyter-venv/lib/python3.8/site-packages (from requests<3,>=2.21.0->tensorboard<2.10,>=2.9->tensorflow-gpu) (3.3)\n",
      "Requirement already satisfied: charset-normalizer<3,>=2 in /enc/udeprod_JWbGd/jupyter-venv/lib/python3.8/site-packages (from requests<3,>=2.21.0->tensorboard<2.10,>=2.9->tensorflow-gpu) (2.1.1)\n",
      "Requirement already satisfied: urllib3<1.27,>=1.21.1 in /enc/udeprod_JWbGd/jupyter-venv/lib/python3.8/site-packages (from requests<3,>=2.21.0->tensorboard<2.10,>=2.9->tensorflow-gpu) (1.26.12)\n",
      "Requirement already satisfied: certifi>=2017.4.17 in /enc/udeprod_JWbGd/jupyter-venv/lib/python3.8/site-packages (from requests<3,>=2.21.0->tensorboard<2.10,>=2.9->tensorflow-gpu) (2022.6.15)\n",
      "Requirement already satisfied: MarkupSafe>=2.1.1 in /enc/udeprod_JWbGd/jupyter-venv/lib/python3.8/site-packages (from werkzeug>=1.0.1->tensorboard<2.10,>=2.9->tensorflow-gpu) (2.1.1)\n",
      "Requirement already satisfied: zipp>=0.5 in /enc/udeprod_JWbGd/jupyter-venv/lib/python3.8/site-packages (from importlib-metadata>=4.4->markdown>=2.6.8->tensorboard<2.10,>=2.9->tensorflow-gpu) (3.8.1)\n",
      "Requirement already satisfied: pyasn1<0.5.0,>=0.4.6 in /enc/udeprod_JWbGd/jupyter-venv/lib/python3.8/site-packages (from pyasn1-modules>=0.2.1->google-auth<3,>=1.6.3->tensorboard<2.10,>=2.9->tensorflow-gpu) (0.4.8)\n",
      "Requirement already satisfied: oauthlib>=3.0.0 in /enc/udeprod_JWbGd/jupyter-venv/lib/python3.8/site-packages (from requests-oauthlib>=0.7.0->google-auth-oauthlib<0.5,>=0.4.1->tensorboard<2.10,>=2.9->tensorflow-gpu) (3.2.0)\n"
     ]
    }
   ],
   "source": [
    "!pip install tensorflow-gpu"
   ]
  },
  {
   "cell_type": "code",
   "execution_count": 39,
   "metadata": {
    "executionInfo": {
     "elapsed": 5543,
     "status": "ok",
     "timestamp": 1656602725877,
     "user": {
      "displayName": "my Teng",
      "userId": "08783803204615505647"
     },
     "user_tz": -120
    },
    "id": "twE_21alDABW"
   },
   "outputs": [],
   "source": [
    "import os, sys, time, re, pickle, datetime as dt\n",
    "import warnings\n",
    "warnings.filterwarnings(\"ignore\")\n",
    "import tensorflow as tf \n",
    "#import keras\n",
    "from keras import regularizers\n",
    "from keras.models import Model, Sequential, load_model\n",
    "from keras.layers import Input, Dense, Dropout, Activation, Flatten, concatenate, Conv2D, MaxPooling2D\n",
    "#from keras.layers import Input, Dense, Dropout, Activation, Flatten, concatenate, Merge, Conv2D, MaxPooling2D\n",
    "from keras.callbacks import Callback, ReduceLROnPlateau, ModelCheckpoint, CSVLogger\n",
    "from keras.preprocessing import image\n",
    "from keras.preprocessing.image import ImageDataGenerator\n",
    "\n",
    "import numpy as np\n",
    "import pandas as pd\n",
    "import seaborn as sns\n",
    "\n",
    "from sklearn.svm import SVC\n",
    "from sklearn.linear_model import LogisticRegressionCV\n",
    "from sklearn.ensemble import RandomForestClassifier\n",
    "from sklearn.model_selection import GridSearchCV\n",
    "from sklearn.model_selection import train_test_split\n",
    "from sklearn import metrics\n",
    "\n",
    "#from tqdm import tqdm\n",
    "\n",
    "%matplotlib inline\n",
    "import matplotlib\n",
    "import matplotlib.pyplot as plt\n",
    "import matplotlib.image as mpimg\n",
    "from mpl_toolkits.axes_grid1 import ImageGrid\n",
    "\n",
    "plt.rcParams['figure.figsize'] = [16, 10]\n",
    "plt.rcParams['font.size'] = 16\n",
    "\n",
    "sns.set_palette('muted',color_codes=True)\n",
    "vc_color = '#B5C9EB'"
   ]
  },
  {
   "cell_type": "code",
   "execution_count": 40,
   "metadata": {
    "colab": {
     "base_uri": "https://localhost:8080/"
    },
    "executionInfo": {
     "elapsed": 28267,
     "status": "ok",
     "timestamp": 1656602754126,
     "user": {
      "displayName": "my Teng",
      "userId": "08783803204615505647"
     },
     "user_tz": -120
    },
    "id": "lM53n3SqDABa",
    "outputId": "39e80879-b64f-4a08-9272-afd64accd6fb",
    "scrolled": false
   },
   "outputs": [],
   "source": [
    "# DATA_DIR = \"../data/raw/\"\n",
    "# TRAIN_DIR = DATA_DIR + \"color_train/\"\n",
    "# VAL_DIR = DATA_DIR + \"color_validation/\"\n",
    "# EXPORT_DIR = \"../models/\"\n",
    "#from google.colab import drive\n",
    "#drive.mount('/content/drive')\n",
    "#%cd \"/content/drive/My Drive/research_practice/plant_diseases/notebooks\""
   ]
  },
  {
   "cell_type": "code",
   "execution_count": 41,
   "metadata": {
    "executionInfo": {
     "elapsed": 9,
     "status": "ok",
     "timestamp": 1656602754128,
     "user": {
      "displayName": "my Teng",
      "userId": "08783803204615505647"
     },
     "user_tz": -120
    },
    "id": "h9lB4VxkDABa"
   },
   "outputs": [],
   "source": [
    "# For compatibility with folder structure on BR's computer\n",
    "DATA_DIR = \"../data/color/70_30/\"\n",
    "TRAIN_DIR = DATA_DIR + \"/train/\"\n",
    "VAL_DIR = DATA_DIR + \"/validation/\"\n",
    "EXPORT_DIR = \"../models/\""
   ]
  },
  {
   "cell_type": "code",
   "execution_count": 42,
   "metadata": {
    "executionInfo": {
     "elapsed": 7,
     "status": "ok",
     "timestamp": 1656602754128,
     "user": {
      "displayName": "my Teng",
      "userId": "08783803204615505647"
     },
     "user_tz": -120
    },
    "id": "KnmMkOp8DABb"
   },
   "outputs": [],
   "source": [
    "IM_WIDTH, IM_HEIGHT = 64, 64\n",
    "BATCH_SIZE = 16"
   ]
  },
  {
   "cell_type": "code",
   "execution_count": 43,
   "metadata": {
    "executionInfo": {
     "elapsed": 84715,
     "status": "ok",
     "timestamp": 1656602838836,
     "user": {
      "displayName": "my Teng",
      "userId": "08783803204615505647"
     },
     "user_tz": -120
    },
    "id": "N59Ww1xBDABb"
   },
   "outputs": [],
   "source": [
    "# Get image classes\n",
    "classes = os.listdir(TRAIN_DIR)\n",
    "superclasses = list(set([x.split(\"_\")[0] for x in classes]))\n",
    "superclasses.sort()\n",
    "num_classes = len(classes)\n",
    "num_superclasses = len(superclasses)\n",
    "\n",
    "# Get path and label for each image\n",
    "db = []\n",
    "for label, class_name in enumerate(classes):\n",
    "    \n",
    "    superclass_name = class_name.split(\"_\")[0]\n",
    "    \n",
    "    # Train\n",
    "    path = TRAIN_DIR + class_name\n",
    "    for file in os.listdir(path):\n",
    "        db.append(['{}/{}'.format(class_name, file), label, class_name, superclass_name, 1])\n",
    "\n",
    "    # Validation\n",
    "    path = VAL_DIR + class_name\n",
    "    for file in os.listdir(path):\n",
    "        db.append(['{}/{}'.format(class_name, file), label, class_name, superclass_name, 0])\n",
    "\n",
    "db = pd.DataFrame(db, columns=['file', 'label', 'class_name', 'superclass', 'train_ind'])\n",
    "\n",
    "num_train_samples = db.train_ind.sum()\n",
    "num_val_samples = len(db) - num_train_samples"
   ]
  },
  {
   "cell_type": "code",
   "execution_count": 44,
   "metadata": {
    "colab": {
     "base_uri": "https://localhost:8080/",
     "height": 337
    },
    "executionInfo": {
     "elapsed": 29,
     "status": "ok",
     "timestamp": 1656602838837,
     "user": {
      "displayName": "my Teng",
      "userId": "08783803204615505647"
     },
     "user_tz": -120
    },
    "id": "HMtmCBwfDABc",
    "outputId": "808721a6-eae0-44de-d5cd-480d4de55344"
   },
   "outputs": [
    {
     "data": {
      "text/html": [
       "<div>\n",
       "<style scoped>\n",
       "    .dataframe tbody tr th:only-of-type {\n",
       "        vertical-align: middle;\n",
       "    }\n",
       "\n",
       "    .dataframe tbody tr th {\n",
       "        vertical-align: top;\n",
       "    }\n",
       "\n",
       "    .dataframe thead th {\n",
       "        text-align: right;\n",
       "    }\n",
       "</style>\n",
       "<table border=\"1\" class=\"dataframe\">\n",
       "  <thead>\n",
       "    <tr style=\"text-align: right;\">\n",
       "      <th></th>\n",
       "      <th>file</th>\n",
       "      <th>label</th>\n",
       "      <th>class_name</th>\n",
       "      <th>superclass</th>\n",
       "      <th>train_ind</th>\n",
       "    </tr>\n",
       "  </thead>\n",
       "  <tbody>\n",
       "    <tr>\n",
       "      <th>0</th>\n",
       "      <td>Apple___cedar_apple_rust/d523dfa0-a337-44db-a9...</td>\n",
       "      <td>0</td>\n",
       "      <td>Apple___cedar_apple_rust</td>\n",
       "      <td>Apple</td>\n",
       "      <td>1</td>\n",
       "    </tr>\n",
       "    <tr>\n",
       "      <th>1</th>\n",
       "      <td>Apple___cedar_apple_rust/4bd5f28f-beb3-4b27-b4...</td>\n",
       "      <td>0</td>\n",
       "      <td>Apple___cedar_apple_rust</td>\n",
       "      <td>Apple</td>\n",
       "      <td>1</td>\n",
       "    </tr>\n",
       "    <tr>\n",
       "      <th>2</th>\n",
       "      <td>Apple___cedar_apple_rust/91c6f875-414d-4449-93...</td>\n",
       "      <td>0</td>\n",
       "      <td>Apple___cedar_apple_rust</td>\n",
       "      <td>Apple</td>\n",
       "      <td>1</td>\n",
       "    </tr>\n",
       "    <tr>\n",
       "      <th>3</th>\n",
       "      <td>Apple___cedar_apple_rust/5b0cb1a1-e3ef-4503-88...</td>\n",
       "      <td>0</td>\n",
       "      <td>Apple___cedar_apple_rust</td>\n",
       "      <td>Apple</td>\n",
       "      <td>1</td>\n",
       "    </tr>\n",
       "    <tr>\n",
       "      <th>4</th>\n",
       "      <td>Apple___cedar_apple_rust/9f7d070e-f51d-4b14-86...</td>\n",
       "      <td>0</td>\n",
       "      <td>Apple___cedar_apple_rust</td>\n",
       "      <td>Apple</td>\n",
       "      <td>1</td>\n",
       "    </tr>\n",
       "  </tbody>\n",
       "</table>\n",
       "</div>"
      ],
      "text/plain": [
       "                                                file  label  \\\n",
       "0  Apple___cedar_apple_rust/d523dfa0-a337-44db-a9...      0   \n",
       "1  Apple___cedar_apple_rust/4bd5f28f-beb3-4b27-b4...      0   \n",
       "2  Apple___cedar_apple_rust/91c6f875-414d-4449-93...      0   \n",
       "3  Apple___cedar_apple_rust/5b0cb1a1-e3ef-4503-88...      0   \n",
       "4  Apple___cedar_apple_rust/9f7d070e-f51d-4b14-86...      0   \n",
       "\n",
       "                 class_name superclass  train_ind  \n",
       "0  Apple___cedar_apple_rust      Apple          1  \n",
       "1  Apple___cedar_apple_rust      Apple          1  \n",
       "2  Apple___cedar_apple_rust      Apple          1  \n",
       "3  Apple___cedar_apple_rust      Apple          1  \n",
       "4  Apple___cedar_apple_rust      Apple          1  "
      ]
     },
     "execution_count": 44,
     "metadata": {},
     "output_type": "execute_result"
    }
   ],
   "source": [
    "db.head()"
   ]
  },
  {
   "cell_type": "code",
   "execution_count": 45,
   "metadata": {
    "executionInfo": {
     "elapsed": 19,
     "status": "ok",
     "timestamp": 1656602838839,
     "user": {
      "displayName": "my Teng",
      "userId": "08783803204615505647"
     },
     "user_tz": -120
    },
    "id": "phvXoDtmDABd"
   },
   "outputs": [],
   "source": [
    "# Specify data generator inputs\n",
    "train_datagen = ImageDataGenerator(\n",
    "    rescale=1/255,\n",
    "    rotation_range=30,\n",
    "    width_shift_range=0.2,\n",
    "    height_shift_range=0.2,\n",
    "    shear_range=0.2,\n",
    "    zoom_range=0.2,\n",
    "    horizontal_flip=True\n",
    ")\n",
    "test_datagen = ImageDataGenerator(\n",
    "    rescale=1/255)"
   ]
  },
  {
   "cell_type": "code",
   "execution_count": 46,
   "metadata": {
    "colab": {
     "base_uri": "https://localhost:8080/"
    },
    "executionInfo": {
     "elapsed": 3327,
     "status": "ok",
     "timestamp": 1656602842147,
     "user": {
      "displayName": "my Teng",
      "userId": "08783803204615505647"
     },
     "user_tz": -120
    },
    "id": "9fXJND7FDABe",
    "outputId": "b7490f9a-e5f6-432d-e364-9bbb3db49f76",
    "scrolled": true
   },
   "outputs": [
    {
     "name": "stdout",
     "output_type": "stream",
     "text": [
      "Found 38089 images belonging to 38 classes.\n",
      "Found 16216 images belonging to 38 classes.\n"
     ]
    }
   ],
   "source": [
    "# Create data generators\n",
    "train_generator = train_datagen.flow_from_directory(\n",
    "    TRAIN_DIR,\n",
    "    target_size=(IM_WIDTH, IM_HEIGHT),\n",
    "    batch_size=BATCH_SIZE,\n",
    "#     interpolation=\"bicubic\"\n",
    ")\n",
    "validation_generator = test_datagen.flow_from_directory(\n",
    "    VAL_DIR,\n",
    "    target_size=(IM_WIDTH, IM_HEIGHT),\n",
    "    batch_size=BATCH_SIZE,\n",
    "#     interpolation=\"bicubic\"\n",
    ")"
   ]
  },
  {
   "cell_type": "code",
   "execution_count": 47,
   "metadata": {
    "executionInfo": {
     "elapsed": 8,
     "status": "ok",
     "timestamp": 1656602842147,
     "user": {
      "displayName": "my Teng",
      "userId": "08783803204615505647"
     },
     "user_tz": -120
    },
    "id": "DCqkWlmcDABe"
   },
   "outputs": [],
   "source": [
    "class_id2superclass_id = np.array([superclasses.index(x.split(\"_\")[0]) for x in classes])\n",
    "\n",
    "def wills_two_label_generator(existing_generator, class_id2superclass_id):\n",
    "    for x_data, class_one_hots in existing_generator:\n",
    "        #look up superclass ids\n",
    "        superclass_ids = np.dot(class_one_hots,class_id2superclass_id)\n",
    "        #one-hot-encode\n",
    "        batch_size = superclass_ids.shape[0]\n",
    "        superclass_one_hots = np.zeros((batch_size, num_superclasses))\n",
    "        superclass_one_hots[np.arange(batch_size), superclass_ids.astype(int)] = 1\n",
    "\n",
    "        yield(x_data, {'class_output': class_one_hots, 'superclass_output': superclass_one_hots} )"
   ]
  },
  {
   "cell_type": "code",
   "execution_count": 54,
   "metadata": {
    "executionInfo": {
     "elapsed": 7,
     "status": "ok",
     "timestamp": 1656602842148,
     "user": {
      "displayName": "my Teng",
      "userId": "08783803204615505647"
     },
     "user_tz": -120
    },
    "id": "Th-AaQdYDABg"
   },
   "outputs": [],
   "source": [
    "# Initiate optimizer\n",
    "opt = tf.optimizers.Adam(lr=0.001)\n",
    "reduce_lr = ReduceLROnPlateau(monitor='val_loss', factor=0.2, patience=5, cooldown=5)"
   ]
  },
  {
   "cell_type": "code",
   "execution_count": 55,
   "metadata": {
    "executionInfo": {
     "elapsed": 7,
     "status": "ok",
     "timestamp": 1656602842148,
     "user": {
      "displayName": "my Teng",
      "userId": "08783803204615505647"
     },
     "user_tz": -120
    },
    "id": "2Mquf087DABg"
   },
   "outputs": [],
   "source": [
    "def plot_history(history, ax, categories, labels, yaxis_label = 'Accuracy'):\n",
    "    for cat, lab in zip(categories, labels):\n",
    "        ax.plot(history[cat], label=lab)\n",
    "    ax.set_xlabel('Epochs')\n",
    "    ax.set_ylabel(yaxis_label)\n",
    "    ax.legend(loc='best')"
   ]
  },
  {
   "cell_type": "markdown",
   "metadata": {
    "id": "CmVeMrDnDABg"
   },
   "source": [
    "## Build Low-Parameter Superclass Model"
   ]
  },
  {
   "cell_type": "code",
   "execution_count": 56,
   "metadata": {
    "executionInfo": {
     "elapsed": 4345,
     "status": "ok",
     "timestamp": 1656602846487,
     "user": {
      "displayName": "my Teng",
      "userId": "08783803204615505647"
     },
     "user_tz": -120
    },
    "id": "TzrK2ISKDABi"
   },
   "outputs": [],
   "source": [
    "main_input_super = Input(shape=(IM_WIDTH, IM_HEIGHT, 3, ), dtype='float32', name='image_input')\n",
    "\n",
    "#shared origin 1\n",
    "conv_leaf_0 = Conv2D(32, (3, 3), padding = 'valid', activation = 'relu', name='shared_conv')(main_input_super)\n",
    "pooled_leaf_0 = MaxPooling2D(pool_size =(2,2), name='shared_pool')(conv_leaf_0)\n",
    "\n",
    "#leaf block 1\n",
    "conv_leaf_1 = Conv2D(16, (3, 3), padding = 'valid', activation = 'relu', name='leaf_conv')(pooled_leaf_0)\n",
    "pooled_leaf_1 = MaxPooling2D(pool_size =(2,2), name='leaf_pool')(conv_leaf_1)\n",
    "dropped_leaf_1 = Dropout(0.10, name='leaf_conv_drop')(pooled_leaf_1)\n",
    "\n",
    "#disease block 1\n",
    "conv_disease_1_2 = Conv2D(64, (3, 3), padding = 'valid', activation = 'relu', name='disease_conv')(pooled_leaf_0)\n",
    "pooled_disease_1 = MaxPooling2D(pool_size =(2,2), name='disease_pool')(conv_disease_1_2)\n",
    "dropped_disease_1 = Dropout(0.10, name='disease_conv_drop')(pooled_disease_1)\n",
    "\n",
    "#dense layer to predict leaf [plant type]\n",
    "flat_leaf = Flatten()(dropped_leaf_1)\n",
    "dense_leaf_1 = Dense(32, activation = 'relu')(flat_leaf) # Using less layers here as accuracy is less important\n",
    "dense_leaf_drop = Dropout(0.3, name='leaf_dense_drop')(dense_leaf_1)\n",
    "leaf_prediction = Dense(num_superclasses, activation = 'softmax', name='superclass_output')(dense_leaf_drop)\n",
    "\n",
    "# dense layer to predict disease [plant type+disease type]\n",
    "flat_disease_super = Flatten()(dropped_disease_1)\n",
    "dense_disease_super = Dense(64, activation = 'relu')(flat_disease_super)\n",
    "\n",
    "# combine networks and perform final categorization\n",
    "combined_dense_disease = concatenate([dense_disease_super, leaf_prediction], axis=-1, name='final_combination')\n",
    "dense_disease_drop = Dropout(0.3, name='final_drop')(combined_dense_disease)\n",
    "disease_prediction = Dense(num_classes, activation = 'softmax', name='class_output')(dense_disease_drop)\n",
    "model_superclass = Model(inputs=[main_input_super], outputs=[disease_prediction, leaf_prediction])"
   ]
  },
  {
   "cell_type": "code",
   "execution_count": 66,
   "metadata": {
    "colab": {
     "base_uri": "https://localhost:8080/"
    },
    "executionInfo": {
     "elapsed": 37,
     "status": "ok",
     "timestamp": 1656602846488,
     "user": {
      "displayName": "my Teng",
      "userId": "08783803204615505647"
     },
     "user_tz": -120
    },
    "id": "MqNht401DABj",
    "outputId": "3f96b2d0-4577-45b2-f428-9fd43b1f9b6d"
   },
   "outputs": [
    {
     "name": "stdout",
     "output_type": "stream",
     "text": [
      "Model: \"model_4\"\n",
      "__________________________________________________________________________________________________\n",
      " Layer (type)                   Output Shape         Param #     Connected to                     \n",
      "==================================================================================================\n",
      " image_input (InputLayer)       [(None, 64, 64, 3)]  0           []                               \n",
      "                                                                                                  \n",
      " shared_conv (Conv2D)           (None, 62, 62, 32)   896         ['image_input[0][0]']            \n",
      "                                                                                                  \n",
      " shared_pool (MaxPooling2D)     (None, 31, 31, 32)   0           ['shared_conv[0][0]']            \n",
      "                                                                                                  \n",
      " leaf_conv (Conv2D)             (None, 29, 29, 16)   4624        ['shared_pool[0][0]']            \n",
      "                                                                                                  \n",
      " leaf_pool (MaxPooling2D)       (None, 14, 14, 16)   0           ['leaf_conv[0][0]']              \n",
      "                                                                                                  \n",
      " disease_conv (Conv2D)          (None, 29, 29, 64)   18496       ['shared_pool[0][0]']            \n",
      "                                                                                                  \n",
      " leaf_conv_drop (Dropout)       (None, 14, 14, 16)   0           ['leaf_pool[0][0]']              \n",
      "                                                                                                  \n",
      " disease_pool (MaxPooling2D)    (None, 14, 14, 64)   0           ['disease_conv[0][0]']           \n",
      "                                                                                                  \n",
      " flatten_8 (Flatten)            (None, 3136)         0           ['leaf_conv_drop[0][0]']         \n",
      "                                                                                                  \n",
      " disease_conv_drop (Dropout)    (None, 14, 14, 64)   0           ['disease_pool[0][0]']           \n",
      "                                                                                                  \n",
      " dense_8 (Dense)                (None, 32)           100384      ['flatten_8[0][0]']              \n",
      "                                                                                                  \n",
      " flatten_9 (Flatten)            (None, 12544)        0           ['disease_conv_drop[0][0]']      \n",
      "                                                                                                  \n",
      " leaf_dense_drop (Dropout)      (None, 32)           0           ['dense_8[0][0]']                \n",
      "                                                                                                  \n",
      " dense_9 (Dense)                (None, 64)           802880      ['flatten_9[0][0]']              \n",
      "                                                                                                  \n",
      " superclass_output (Dense)      (None, 14)           462         ['leaf_dense_drop[0][0]']        \n",
      "                                                                                                  \n",
      " final_combination (Concatenate  (None, 78)          0           ['dense_9[0][0]',                \n",
      " )                                                                'superclass_output[0][0]']      \n",
      "                                                                                                  \n",
      " final_drop (Dropout)           (None, 78)           0           ['final_combination[0][0]']      \n",
      "                                                                                                  \n",
      " class_output (Dense)           (None, 38)           3002        ['final_drop[0][0]']             \n",
      "                                                                                                  \n",
      "==================================================================================================\n",
      "Total params: 930,744\n",
      "Trainable params: 930,744\n",
      "Non-trainable params: 0\n",
      "__________________________________________________________________________________________________\n"
     ]
    }
   ],
   "source": [
    "# Compile model\n",
    "model_superclass.compile(loss='categorical_crossentropy', optimizer=opt, metrics=['accuracy'])\n",
    "model_superclass.summary()"
   ]
  },
  {
   "cell_type": "code",
   "execution_count": 71,
   "metadata": {
    "executionInfo": {
     "elapsed": 18,
     "status": "ok",
     "timestamp": 1656602846489,
     "user": {
      "displayName": "my Teng",
      "userId": "08783803204615505647"
     },
     "user_tz": -120
    },
    "id": "ivK4jfoHDABj"
   },
   "outputs": [],
   "source": [
    "# Set up callbacks\n",
    "model_name = \"superclass_model\"\n",
    "filepath = EXPORT_DIR + model_name + \".hdf5\"\n",
    "checkpoint = ModelCheckpoint(filepath, monitor='val_accuracy', mode='max', verbose=1, save_best_only=True)\n",
    "\n",
    "filepath = EXPORT_DIR + model_name + \".csv\"\n",
    "csv_logger = CSVLogger(filepath)\n",
    "\n",
    "callbacks_list = [checkpoint, reduce_lr, csv_logger]"
   ]
  },
  {
   "cell_type": "code",
   "execution_count": 72,
   "metadata": {
    "colab": {
     "base_uri": "https://localhost:8080/"
    },
    "id": "xPWOCbLGDABk",
    "outputId": "0935b54d-12f6-42b8-d689-81914ed06ba2"
   },
   "outputs": [
    {
     "name": "stdout",
     "output_type": "stream",
     "text": [
      "Epoch 1/40\n",
      "500/500 [==============================] - ETA: 0s - loss: 2.8376 - class_output_loss: 1.5142 - superclass_output_loss: 1.3235 - class_output_accuracy: 0.5524 - superclass_output_accuracy: 0.5534WARNING:tensorflow:Can save best model only with val_accuracy available, skipping.\n",
      "500/500 [==============================] - 48s 96ms/step - loss: 2.8376 - class_output_loss: 1.5142 - superclass_output_loss: 1.3235 - class_output_accuracy: 0.5524 - superclass_output_accuracy: 0.5534 - val_loss: 2.5148 - val_class_output_loss: 1.3186 - val_superclass_output_loss: 1.1962 - val_class_output_accuracy: 0.6180 - val_superclass_output_accuracy: 0.6120 - lr: 0.0010\n",
      "Epoch 2/40\n",
      "500/500 [==============================] - ETA: 0s - loss: 2.8276 - class_output_loss: 1.4958 - superclass_output_loss: 1.3318 - class_output_accuracy: 0.5627 - superclass_output_accuracy: 0.5484WARNING:tensorflow:Can save best model only with val_accuracy available, skipping.\n",
      "500/500 [==============================] - 51s 101ms/step - loss: 2.8276 - class_output_loss: 1.4958 - superclass_output_loss: 1.3318 - class_output_accuracy: 0.5627 - superclass_output_accuracy: 0.5484 - val_loss: 2.3403 - val_class_output_loss: 1.2118 - val_superclass_output_loss: 1.1285 - val_class_output_accuracy: 0.6327 - val_superclass_output_accuracy: 0.6269 - lr: 0.0010\n",
      "Epoch 3/40\n",
      "500/500 [==============================] - ETA: 0s - loss: 2.7289 - class_output_loss: 1.4638 - superclass_output_loss: 1.2651 - class_output_accuracy: 0.5660 - superclass_output_accuracy: 0.5776WARNING:tensorflow:Can save best model only with val_accuracy available, skipping.\n",
      "500/500 [==============================] - 48s 96ms/step - loss: 2.7289 - class_output_loss: 1.4638 - superclass_output_loss: 1.2651 - class_output_accuracy: 0.5660 - superclass_output_accuracy: 0.5776 - val_loss: 2.3018 - val_class_output_loss: 1.1085 - val_superclass_output_loss: 1.1933 - val_class_output_accuracy: 0.6579 - val_superclass_output_accuracy: 0.6014 - lr: 0.0010\n",
      "Epoch 4/40\n",
      "500/500 [==============================] - ETA: 0s - loss: 2.6704 - class_output_loss: 1.4228 - superclass_output_loss: 1.2476 - class_output_accuracy: 0.5770 - superclass_output_accuracy: 0.5766WARNING:tensorflow:Can save best model only with val_accuracy available, skipping.\n",
      "500/500 [==============================] - 48s 96ms/step - loss: 2.6704 - class_output_loss: 1.4228 - superclass_output_loss: 1.2476 - class_output_accuracy: 0.5770 - superclass_output_accuracy: 0.5766 - val_loss: 2.2710 - val_class_output_loss: 1.1661 - val_superclass_output_loss: 1.1049 - val_class_output_accuracy: 0.6493 - val_superclass_output_accuracy: 0.6303 - lr: 0.0010\n",
      "Epoch 5/40\n",
      "500/500 [==============================] - ETA: 0s - loss: 2.6276 - class_output_loss: 1.3939 - superclass_output_loss: 1.2336 - class_output_accuracy: 0.5854 - superclass_output_accuracy: 0.5807WARNING:tensorflow:Can save best model only with val_accuracy available, skipping.\n",
      "500/500 [==============================] - 48s 95ms/step - loss: 2.6276 - class_output_loss: 1.3939 - superclass_output_loss: 1.2336 - class_output_accuracy: 0.5854 - superclass_output_accuracy: 0.5807 - val_loss: 1.9667 - val_class_output_loss: 0.9817 - val_superclass_output_loss: 0.9850 - val_class_output_accuracy: 0.7063 - val_superclass_output_accuracy: 0.6618 - lr: 0.0010\n",
      "Epoch 6/40\n",
      "500/500 [==============================] - ETA: 0s - loss: 2.5638 - class_output_loss: 1.3444 - superclass_output_loss: 1.2194 - class_output_accuracy: 0.5953 - superclass_output_accuracy: 0.5899WARNING:tensorflow:Can save best model only with val_accuracy available, skipping.\n",
      "500/500 [==============================] - 48s 96ms/step - loss: 2.5638 - class_output_loss: 1.3444 - superclass_output_loss: 1.2194 - class_output_accuracy: 0.5953 - superclass_output_accuracy: 0.5899 - val_loss: 2.1731 - val_class_output_loss: 1.1437 - val_superclass_output_loss: 1.0293 - val_class_output_accuracy: 0.6699 - val_superclass_output_accuracy: 0.6540 - lr: 0.0010\n",
      "Epoch 7/40\n",
      "500/500 [==============================] - ETA: 0s - loss: 2.5641 - class_output_loss: 1.3470 - superclass_output_loss: 1.2171 - class_output_accuracy: 0.6018 - superclass_output_accuracy: 0.5893WARNING:tensorflow:Can save best model only with val_accuracy available, skipping.\n",
      "500/500 [==============================] - 48s 96ms/step - loss: 2.5641 - class_output_loss: 1.3470 - superclass_output_loss: 1.2171 - class_output_accuracy: 0.6018 - superclass_output_accuracy: 0.5893 - val_loss: 1.9962 - val_class_output_loss: 1.0287 - val_superclass_output_loss: 0.9675 - val_class_output_accuracy: 0.6923 - val_superclass_output_accuracy: 0.6836 - lr: 0.0010\n",
      "Epoch 8/40\n",
      "500/500 [==============================] - ETA: 0s - loss: 2.4715 - class_output_loss: 1.2863 - superclass_output_loss: 1.1852 - class_output_accuracy: 0.6168 - superclass_output_accuracy: 0.5978WARNING:tensorflow:Can save best model only with val_accuracy available, skipping.\n",
      "500/500 [==============================] - 48s 96ms/step - loss: 2.4715 - class_output_loss: 1.2863 - superclass_output_loss: 1.1852 - class_output_accuracy: 0.6168 - superclass_output_accuracy: 0.5978 - val_loss: 2.1199 - val_class_output_loss: 1.0417 - val_superclass_output_loss: 1.0782 - val_class_output_accuracy: 0.6886 - val_superclass_output_accuracy: 0.6405 - lr: 0.0010\n",
      "Epoch 9/40\n",
      "500/500 [==============================] - ETA: 0s - loss: 2.4638 - class_output_loss: 1.2819 - superclass_output_loss: 1.1818 - class_output_accuracy: 0.6199 - superclass_output_accuracy: 0.5979WARNING:tensorflow:Can save best model only with val_accuracy available, skipping.\n",
      "500/500 [==============================] - 49s 97ms/step - loss: 2.4638 - class_output_loss: 1.2819 - superclass_output_loss: 1.1818 - class_output_accuracy: 0.6199 - superclass_output_accuracy: 0.5979 - val_loss: 1.9035 - val_class_output_loss: 0.9286 - val_superclass_output_loss: 0.9750 - val_class_output_accuracy: 0.7143 - val_superclass_output_accuracy: 0.6791 - lr: 0.0010\n",
      "Epoch 10/40\n",
      "500/500 [==============================] - ETA: 0s - loss: 2.4297 - class_output_loss: 1.2593 - superclass_output_loss: 1.1704 - class_output_accuracy: 0.6244 - superclass_output_accuracy: 0.6075WARNING:tensorflow:Can save best model only with val_accuracy available, skipping.\n",
      "500/500 [==============================] - 48s 95ms/step - loss: 2.4297 - class_output_loss: 1.2593 - superclass_output_loss: 1.1704 - class_output_accuracy: 0.6244 - superclass_output_accuracy: 0.6075 - val_loss: 1.9154 - val_class_output_loss: 1.0328 - val_superclass_output_loss: 0.8826 - val_class_output_accuracy: 0.6793 - val_superclass_output_accuracy: 0.7030 - lr: 0.0010\n",
      "Epoch 11/40\n",
      "500/500 [==============================] - ETA: 0s - loss: 2.4301 - class_output_loss: 1.2683 - superclass_output_loss: 1.1618 - class_output_accuracy: 0.6170 - superclass_output_accuracy: 0.6114WARNING:tensorflow:Can save best model only with val_accuracy available, skipping.\n",
      "500/500 [==============================] - 48s 96ms/step - loss: 2.4301 - class_output_loss: 1.2683 - superclass_output_loss: 1.1618 - class_output_accuracy: 0.6170 - superclass_output_accuracy: 0.6114 - val_loss: 1.7987 - val_class_output_loss: 0.8733 - val_superclass_output_loss: 0.9254 - val_class_output_accuracy: 0.7295 - val_superclass_output_accuracy: 0.6870 - lr: 0.0010\n",
      "Epoch 12/40\n",
      "500/500 [==============================] - ETA: 0s - loss: 2.3840 - class_output_loss: 1.2195 - superclass_output_loss: 1.1646 - class_output_accuracy: 0.6341 - superclass_output_accuracy: 0.6130WARNING:tensorflow:Can save best model only with val_accuracy available, skipping.\n",
      "500/500 [==============================] - 49s 98ms/step - loss: 2.3840 - class_output_loss: 1.2195 - superclass_output_loss: 1.1646 - class_output_accuracy: 0.6341 - superclass_output_accuracy: 0.6130 - val_loss: 1.9601 - val_class_output_loss: 1.0399 - val_superclass_output_loss: 0.9202 - val_class_output_accuracy: 0.6931 - val_superclass_output_accuracy: 0.6966 - lr: 0.0010\n",
      "Epoch 13/40\n"
     ]
    },
    {
     "name": "stdout",
     "output_type": "stream",
     "text": [
      "500/500 [==============================] - ETA: 0s - loss: 2.3432 - class_output_loss: 1.1978 - superclass_output_loss: 1.1453 - class_output_accuracy: 0.6396 - superclass_output_accuracy: 0.6199WARNING:tensorflow:Can save best model only with val_accuracy available, skipping.\n",
      "500/500 [==============================] - 48s 96ms/step - loss: 2.3432 - class_output_loss: 1.1978 - superclass_output_loss: 1.1453 - class_output_accuracy: 0.6396 - superclass_output_accuracy: 0.6199 - val_loss: 1.7434 - val_class_output_loss: 0.8430 - val_superclass_output_loss: 0.9004 - val_class_output_accuracy: 0.7366 - val_superclass_output_accuracy: 0.6982 - lr: 0.0010\n",
      "Epoch 14/40\n",
      "500/500 [==============================] - ETA: 0s - loss: 2.2884 - class_output_loss: 1.1703 - superclass_output_loss: 1.1181 - class_output_accuracy: 0.6521 - superclass_output_accuracy: 0.6225WARNING:tensorflow:Can save best model only with val_accuracy available, skipping.\n",
      "500/500 [==============================] - 48s 96ms/step - loss: 2.2884 - class_output_loss: 1.1703 - superclass_output_loss: 1.1181 - class_output_accuracy: 0.6521 - superclass_output_accuracy: 0.6225 - val_loss: 1.7083 - val_class_output_loss: 0.8443 - val_superclass_output_loss: 0.8640 - val_class_output_accuracy: 0.7410 - val_superclass_output_accuracy: 0.7246 - lr: 0.0010\n",
      "Epoch 15/40\n",
      "500/500 [==============================] - ETA: 0s - loss: 2.2823 - class_output_loss: 1.1587 - superclass_output_loss: 1.1237 - class_output_accuracy: 0.6497 - superclass_output_accuracy: 0.6249WARNING:tensorflow:Can save best model only with val_accuracy available, skipping.\n",
      "500/500 [==============================] - 48s 95ms/step - loss: 2.2823 - class_output_loss: 1.1587 - superclass_output_loss: 1.1237 - class_output_accuracy: 0.6497 - superclass_output_accuracy: 0.6249 - val_loss: 1.7209 - val_class_output_loss: 0.8397 - val_superclass_output_loss: 0.8812 - val_class_output_accuracy: 0.7401 - val_superclass_output_accuracy: 0.7071 - lr: 0.0010\n",
      "Epoch 16/40\n",
      "500/500 [==============================] - ETA: 0s - loss: 2.3001 - class_output_loss: 1.1739 - superclass_output_loss: 1.1262 - class_output_accuracy: 0.6450 - superclass_output_accuracy: 0.6294WARNING:tensorflow:Can save best model only with val_accuracy available, skipping.\n",
      "500/500 [==============================] - 48s 96ms/step - loss: 2.3001 - class_output_loss: 1.1739 - superclass_output_loss: 1.1262 - class_output_accuracy: 0.6450 - superclass_output_accuracy: 0.6294 - val_loss: 1.6878 - val_class_output_loss: 0.7630 - val_superclass_output_loss: 0.9249 - val_class_output_accuracy: 0.7591 - val_superclass_output_accuracy: 0.7085 - lr: 0.0010\n",
      "Epoch 17/40\n",
      "500/500 [==============================] - ETA: 0s - loss: 2.2210 - class_output_loss: 1.1242 - superclass_output_loss: 1.0969 - class_output_accuracy: 0.6643 - superclass_output_accuracy: 0.6352WARNING:tensorflow:Can save best model only with val_accuracy available, skipping.\n",
      "500/500 [==============================] - 48s 96ms/step - loss: 2.2210 - class_output_loss: 1.1242 - superclass_output_loss: 1.0969 - class_output_accuracy: 0.6643 - superclass_output_accuracy: 0.6352 - val_loss: 1.7184 - val_class_output_loss: 0.8512 - val_superclass_output_loss: 0.8672 - val_class_output_accuracy: 0.7406 - val_superclass_output_accuracy: 0.7179 - lr: 0.0010\n",
      "Epoch 18/40\n",
      "500/500 [==============================] - ETA: 0s - loss: 2.2349 - class_output_loss: 1.1181 - superclass_output_loss: 1.1168 - class_output_accuracy: 0.6606 - superclass_output_accuracy: 0.6265WARNING:tensorflow:Can save best model only with val_accuracy available, skipping.\n",
      "500/500 [==============================] - 48s 95ms/step - loss: 2.2349 - class_output_loss: 1.1181 - superclass_output_loss: 1.1168 - class_output_accuracy: 0.6606 - superclass_output_accuracy: 0.6265 - val_loss: 1.7916 - val_class_output_loss: 0.8501 - val_superclass_output_loss: 0.9414 - val_class_output_accuracy: 0.7411 - val_superclass_output_accuracy: 0.7061 - lr: 0.0010\n",
      "Epoch 19/40\n",
      "500/500 [==============================] - ETA: 0s - loss: 2.1388 - class_output_loss: 1.0552 - superclass_output_loss: 1.0836 - class_output_accuracy: 0.6829 - superclass_output_accuracy: 0.6317WARNING:tensorflow:Can save best model only with val_accuracy available, skipping.\n",
      "500/500 [==============================] - 48s 96ms/step - loss: 2.1388 - class_output_loss: 1.0552 - superclass_output_loss: 1.0836 - class_output_accuracy: 0.6829 - superclass_output_accuracy: 0.6317 - val_loss: 1.8453 - val_class_output_loss: 0.8871 - val_superclass_output_loss: 0.9582 - val_class_output_accuracy: 0.7391 - val_superclass_output_accuracy: 0.6870 - lr: 0.0010\n",
      "Epoch 20/40\n",
      "500/500 [==============================] - ETA: 0s - loss: 2.1284 - class_output_loss: 1.0641 - superclass_output_loss: 1.0642 - class_output_accuracy: 0.6731 - superclass_output_accuracy: 0.6456WARNING:tensorflow:Can save best model only with val_accuracy available, skipping.\n",
      "500/500 [==============================] - 48s 95ms/step - loss: 2.1284 - class_output_loss: 1.0641 - superclass_output_loss: 1.0642 - class_output_accuracy: 0.6731 - superclass_output_accuracy: 0.6456 - val_loss: 1.5976 - val_class_output_loss: 0.6747 - val_superclass_output_loss: 0.9230 - val_class_output_accuracy: 0.7920 - val_superclass_output_accuracy: 0.7010 - lr: 0.0010\n",
      "Epoch 21/40\n",
      "500/500 [==============================] - ETA: 0s - loss: 2.2062 - class_output_loss: 1.0964 - superclass_output_loss: 1.1098 - class_output_accuracy: 0.6664 - superclass_output_accuracy: 0.6300WARNING:tensorflow:Can save best model only with val_accuracy available, skipping.\n",
      "500/500 [==============================] - 48s 96ms/step - loss: 2.2062 - class_output_loss: 1.0964 - superclass_output_loss: 1.1098 - class_output_accuracy: 0.6664 - superclass_output_accuracy: 0.6300 - val_loss: 1.6502 - val_class_output_loss: 0.7796 - val_superclass_output_loss: 0.8706 - val_class_output_accuracy: 0.7686 - val_superclass_output_accuracy: 0.7160 - lr: 0.0010\n",
      "Epoch 22/40\n",
      "500/500 [==============================] - ETA: 0s - loss: 2.0665 - class_output_loss: 1.0106 - superclass_output_loss: 1.0559 - class_output_accuracy: 0.6859 - superclass_output_accuracy: 0.6416WARNING:tensorflow:Can save best model only with val_accuracy available, skipping.\n",
      "500/500 [==============================] - 48s 96ms/step - loss: 2.0665 - class_output_loss: 1.0106 - superclass_output_loss: 1.0559 - class_output_accuracy: 0.6859 - superclass_output_accuracy: 0.6416 - val_loss: 1.5834 - val_class_output_loss: 0.7590 - val_superclass_output_loss: 0.8245 - val_class_output_accuracy: 0.7689 - val_superclass_output_accuracy: 0.7331 - lr: 0.0010\n",
      "Epoch 23/40\n",
      "500/500 [==============================] - ETA: 0s - loss: 2.1114 - class_output_loss: 1.0246 - superclass_output_loss: 1.0868 - class_output_accuracy: 0.6840 - superclass_output_accuracy: 0.6353WARNING:tensorflow:Can save best model only with val_accuracy available, skipping.\n",
      "500/500 [==============================] - 48s 96ms/step - loss: 2.1114 - class_output_loss: 1.0246 - superclass_output_loss: 1.0868 - class_output_accuracy: 0.6840 - superclass_output_accuracy: 0.6353 - val_loss: 1.4475 - val_class_output_loss: 0.6691 - val_superclass_output_loss: 0.7784 - val_class_output_accuracy: 0.7879 - val_superclass_output_accuracy: 0.7473 - lr: 0.0010\n",
      "Epoch 24/40\n",
      "500/500 [==============================] - ETA: 0s - loss: 2.0915 - class_output_loss: 1.0049 - superclass_output_loss: 1.0867 - class_output_accuracy: 0.6942 - superclass_output_accuracy: 0.6341WARNING:tensorflow:Can save best model only with val_accuracy available, skipping.\n",
      "500/500 [==============================] - 51s 102ms/step - loss: 2.0915 - class_output_loss: 1.0049 - superclass_output_loss: 1.0867 - class_output_accuracy: 0.6942 - superclass_output_accuracy: 0.6341 - val_loss: 1.6816 - val_class_output_loss: 0.7788 - val_superclass_output_loss: 0.9028 - val_class_output_accuracy: 0.7570 - val_superclass_output_accuracy: 0.7010 - lr: 0.0010\n",
      "Epoch 25/40\n"
     ]
    },
    {
     "name": "stdout",
     "output_type": "stream",
     "text": [
      "500/500 [==============================] - ETA: 0s - loss: 2.0634 - class_output_loss: 0.9966 - superclass_output_loss: 1.0668 - class_output_accuracy: 0.6926 - superclass_output_accuracy: 0.6439WARNING:tensorflow:Can save best model only with val_accuracy available, skipping.\n",
      "500/500 [==============================] - 60s 121ms/step - loss: 2.0634 - class_output_loss: 0.9966 - superclass_output_loss: 1.0668 - class_output_accuracy: 0.6926 - superclass_output_accuracy: 0.6439 - val_loss: 1.4112 - val_class_output_loss: 0.6503 - val_superclass_output_loss: 0.7609 - val_class_output_accuracy: 0.8048 - val_superclass_output_accuracy: 0.7539 - lr: 0.0010\n",
      "Epoch 26/40\n",
      "500/500 [==============================] - ETA: 0s - loss: 2.1269 - class_output_loss: 1.0386 - superclass_output_loss: 1.0883 - class_output_accuracy: 0.6799 - superclass_output_accuracy: 0.6366WARNING:tensorflow:Can save best model only with val_accuracy available, skipping.\n",
      "500/500 [==============================] - 62s 125ms/step - loss: 2.1269 - class_output_loss: 1.0386 - superclass_output_loss: 1.0883 - class_output_accuracy: 0.6799 - superclass_output_accuracy: 0.6366 - val_loss: 1.5170 - val_class_output_loss: 0.6592 - val_superclass_output_loss: 0.8578 - val_class_output_accuracy: 0.7997 - val_superclass_output_accuracy: 0.7130 - lr: 0.0010\n",
      "Epoch 27/40\n",
      "500/500 [==============================] - ETA: 0s - loss: 2.0226 - class_output_loss: 0.9842 - superclass_output_loss: 1.0384 - class_output_accuracy: 0.6952 - superclass_output_accuracy: 0.6556WARNING:tensorflow:Can save best model only with val_accuracy available, skipping.\n",
      "500/500 [==============================] - 61s 122ms/step - loss: 2.0226 - class_output_loss: 0.9842 - superclass_output_loss: 1.0384 - class_output_accuracy: 0.6952 - superclass_output_accuracy: 0.6556 - val_loss: 1.6231 - val_class_output_loss: 0.7126 - val_superclass_output_loss: 0.9104 - val_class_output_accuracy: 0.7806 - val_superclass_output_accuracy: 0.7082 - lr: 0.0010\n",
      "Epoch 28/40\n",
      "500/500 [==============================] - ETA: 0s - loss: 2.0195 - class_output_loss: 0.9575 - superclass_output_loss: 1.0619 - class_output_accuracy: 0.7077 - superclass_output_accuracy: 0.6442WARNING:tensorflow:Can save best model only with val_accuracy available, skipping.\n",
      "500/500 [==============================] - 60s 121ms/step - loss: 2.0195 - class_output_loss: 0.9575 - superclass_output_loss: 1.0619 - class_output_accuracy: 0.7077 - superclass_output_accuracy: 0.6442 - val_loss: 1.6112 - val_class_output_loss: 0.7434 - val_superclass_output_loss: 0.8678 - val_class_output_accuracy: 0.7701 - val_superclass_output_accuracy: 0.7163 - lr: 0.0010\n",
      "Epoch 29/40\n",
      "500/500 [==============================] - ETA: 0s - loss: 2.0431 - class_output_loss: 0.9760 - superclass_output_loss: 1.0671 - class_output_accuracy: 0.7096 - superclass_output_accuracy: 0.6432WARNING:tensorflow:Can save best model only with val_accuracy available, skipping.\n",
      "500/500 [==============================] - 48s 96ms/step - loss: 2.0431 - class_output_loss: 0.9760 - superclass_output_loss: 1.0671 - class_output_accuracy: 0.7096 - superclass_output_accuracy: 0.6432 - val_loss: 1.6292 - val_class_output_loss: 0.7088 - val_superclass_output_loss: 0.9204 - val_class_output_accuracy: 0.7920 - val_superclass_output_accuracy: 0.7015 - lr: 0.0010\n",
      "Epoch 30/40\n",
      "500/500 [==============================] - ETA: 0s - loss: 2.0002 - class_output_loss: 0.9444 - superclass_output_loss: 1.0558 - class_output_accuracy: 0.7134 - superclass_output_accuracy: 0.6442WARNING:tensorflow:Can save best model only with val_accuracy available, skipping.\n",
      "500/500 [==============================] - 48s 95ms/step - loss: 2.0002 - class_output_loss: 0.9444 - superclass_output_loss: 1.0558 - class_output_accuracy: 0.7134 - superclass_output_accuracy: 0.6442 - val_loss: 1.6565 - val_class_output_loss: 0.7749 - val_superclass_output_loss: 0.8816 - val_class_output_accuracy: 0.7611 - val_superclass_output_accuracy: 0.7087 - lr: 0.0010\n",
      "Epoch 31/40\n",
      "500/500 [==============================] - ETA: 0s - loss: 1.7921 - class_output_loss: 0.8303 - superclass_output_loss: 0.9618 - class_output_accuracy: 0.7445 - superclass_output_accuracy: 0.6770WARNING:tensorflow:Can save best model only with val_accuracy available, skipping.\n",
      "500/500 [==============================] - 48s 95ms/step - loss: 1.7921 - class_output_loss: 0.8303 - superclass_output_loss: 0.9618 - class_output_accuracy: 0.7445 - superclass_output_accuracy: 0.6770 - val_loss: 1.4951 - val_class_output_loss: 0.7028 - val_superclass_output_loss: 0.7923 - val_class_output_accuracy: 0.7832 - val_superclass_output_accuracy: 0.7405 - lr: 2.0000e-04\n",
      "Epoch 32/40\n",
      "500/500 [==============================] - ETA: 0s - loss: 1.7466 - class_output_loss: 0.7988 - superclass_output_loss: 0.9478 - class_output_accuracy: 0.7512 - superclass_output_accuracy: 0.6770WARNING:tensorflow:Can save best model only with val_accuracy available, skipping.\n",
      "500/500 [==============================] - 48s 95ms/step - loss: 1.7466 - class_output_loss: 0.7988 - superclass_output_loss: 0.9478 - class_output_accuracy: 0.7512 - superclass_output_accuracy: 0.6770 - val_loss: 1.5065 - val_class_output_loss: 0.6855 - val_superclass_output_loss: 0.8211 - val_class_output_accuracy: 0.7964 - val_superclass_output_accuracy: 0.7396 - lr: 2.0000e-04\n",
      "Epoch 33/40\n",
      "500/500 [==============================] - ETA: 0s - loss: 1.7599 - class_output_loss: 0.8042 - superclass_output_loss: 0.9557 - class_output_accuracy: 0.7489 - superclass_output_accuracy: 0.6760WARNING:tensorflow:Can save best model only with val_accuracy available, skipping.\n",
      "500/500 [==============================] - 48s 95ms/step - loss: 1.7599 - class_output_loss: 0.8042 - superclass_output_loss: 0.9557 - class_output_accuracy: 0.7489 - superclass_output_accuracy: 0.6760 - val_loss: 1.4366 - val_class_output_loss: 0.6239 - val_superclass_output_loss: 0.8127 - val_class_output_accuracy: 0.8014 - val_superclass_output_accuracy: 0.7383 - lr: 2.0000e-04\n",
      "Epoch 34/40\n",
      "500/500 [==============================] - ETA: 0s - loss: 1.7375 - class_output_loss: 0.8008 - superclass_output_loss: 0.9367 - class_output_accuracy: 0.7505 - superclass_output_accuracy: 0.6773WARNING:tensorflow:Can save best model only with val_accuracy available, skipping.\n",
      "500/500 [==============================] - 48s 96ms/step - loss: 1.7375 - class_output_loss: 0.8008 - superclass_output_loss: 0.9367 - class_output_accuracy: 0.7505 - superclass_output_accuracy: 0.6773 - val_loss: 1.3799 - val_class_output_loss: 0.5885 - val_superclass_output_loss: 0.7915 - val_class_output_accuracy: 0.8244 - val_superclass_output_accuracy: 0.7496 - lr: 2.0000e-04\n",
      "Epoch 35/40\n",
      "500/500 [==============================] - ETA: 0s - loss: 1.7497 - class_output_loss: 0.7996 - superclass_output_loss: 0.9501 - class_output_accuracy: 0.7492 - superclass_output_accuracy: 0.6804WARNING:tensorflow:Can save best model only with val_accuracy available, skipping.\n",
      "500/500 [==============================] - 50s 100ms/step - loss: 1.7497 - class_output_loss: 0.7996 - superclass_output_loss: 0.9501 - class_output_accuracy: 0.7492 - superclass_output_accuracy: 0.6804 - val_loss: 1.4541 - val_class_output_loss: 0.6689 - val_superclass_output_loss: 0.7852 - val_class_output_accuracy: 0.7964 - val_superclass_output_accuracy: 0.7459 - lr: 2.0000e-04\n",
      "Epoch 36/40\n",
      "500/500 [==============================] - ETA: 0s - loss: 1.7462 - class_output_loss: 0.7913 - superclass_output_loss: 0.9549 - class_output_accuracy: 0.7527 - superclass_output_accuracy: 0.6740WARNING:tensorflow:Can save best model only with val_accuracy available, skipping.\n",
      "500/500 [==============================] - 48s 95ms/step - loss: 1.7462 - class_output_loss: 0.7913 - superclass_output_loss: 0.9549 - class_output_accuracy: 0.7527 - superclass_output_accuracy: 0.6740 - val_loss: 1.4001 - val_class_output_loss: 0.6325 - val_superclass_output_loss: 0.7676 - val_class_output_accuracy: 0.8131 - val_superclass_output_accuracy: 0.7435 - lr: 2.0000e-04\n",
      "Epoch 37/40\n"
     ]
    },
    {
     "name": "stdout",
     "output_type": "stream",
     "text": [
      "500/500 [==============================] - ETA: 0s - loss: 1.7074 - class_output_loss: 0.7750 - superclass_output_loss: 0.9324 - class_output_accuracy: 0.7583 - superclass_output_accuracy: 0.6833WARNING:tensorflow:Can save best model only with val_accuracy available, skipping.\n",
      "500/500 [==============================] - 49s 98ms/step - loss: 1.7074 - class_output_loss: 0.7750 - superclass_output_loss: 0.9324 - class_output_accuracy: 0.7583 - superclass_output_accuracy: 0.6833 - val_loss: 1.4374 - val_class_output_loss: 0.6542 - val_superclass_output_loss: 0.7832 - val_class_output_accuracy: 0.7956 - val_superclass_output_accuracy: 0.7471 - lr: 2.0000e-04\n",
      "Epoch 38/40\n",
      "500/500 [==============================] - ETA: 0s - loss: 1.7245 - class_output_loss: 0.7781 - superclass_output_loss: 0.9464 - class_output_accuracy: 0.7554 - superclass_output_accuracy: 0.6764WARNING:tensorflow:Can save best model only with val_accuracy available, skipping.\n",
      "500/500 [==============================] - 48s 96ms/step - loss: 1.7245 - class_output_loss: 0.7781 - superclass_output_loss: 0.9464 - class_output_accuracy: 0.7554 - superclass_output_accuracy: 0.6764 - val_loss: 1.4076 - val_class_output_loss: 0.6245 - val_superclass_output_loss: 0.7830 - val_class_output_accuracy: 0.8089 - val_superclass_output_accuracy: 0.7528 - lr: 2.0000e-04\n",
      "Epoch 39/40\n",
      "500/500 [==============================] - ETA: 0s - loss: 1.7200 - class_output_loss: 0.7847 - superclass_output_loss: 0.9352 - class_output_accuracy: 0.7569 - superclass_output_accuracy: 0.6856WARNING:tensorflow:Can save best model only with val_accuracy available, skipping.\n",
      "500/500 [==============================] - 48s 97ms/step - loss: 1.7200 - class_output_loss: 0.7847 - superclass_output_loss: 0.9352 - class_output_accuracy: 0.7569 - superclass_output_accuracy: 0.6856 - val_loss: 1.3359 - val_class_output_loss: 0.5961 - val_superclass_output_loss: 0.7399 - val_class_output_accuracy: 0.8207 - val_superclass_output_accuracy: 0.7605 - lr: 2.0000e-04\n",
      "Epoch 40/40\n",
      "500/500 [==============================] - ETA: 0s - loss: 1.7199 - class_output_loss: 0.7837 - superclass_output_loss: 0.9362 - class_output_accuracy: 0.7595 - superclass_output_accuracy: 0.6810WARNING:tensorflow:Can save best model only with val_accuracy available, skipping.\n",
      "500/500 [==============================] - 48s 95ms/step - loss: 1.7199 - class_output_loss: 0.7837 - superclass_output_loss: 0.9362 - class_output_accuracy: 0.7595 - superclass_output_accuracy: 0.6810 - val_loss: 1.5342 - val_class_output_loss: 0.6527 - val_superclass_output_loss: 0.8815 - val_class_output_accuracy: 0.7947 - val_superclass_output_accuracy: 0.7180 - lr: 2.0000e-04\n"
     ]
    }
   ],
   "source": [
    "# Fit generator\n",
    "results = model_superclass.fit(\n",
    "    wills_two_label_generator(train_generator, class_id2superclass_id), epochs=40, steps_per_epoch=500, \n",
    "    validation_data=wills_two_label_generator(validation_generator, class_id2superclass_id), validation_steps=500,\n",
    "    callbacks=callbacks_list)"
   ]
  },
  {
   "cell_type": "code",
   "execution_count": 75,
   "metadata": {
    "id": "Z16mZPvjDABk",
    "scrolled": true
   },
   "outputs": [
    {
     "data": {
      "image/png": "[encoded data removed]",
      "text/plain": [
       "<Figure size 1000x600 with 1 Axes>"
      ]
     },
     "metadata": {},
     "output_type": "display_data"
    }
   ],
   "source": [
    "fig, ax = plt.subplots(figsize=(10,6))\n",
    "plot_history(results.history, ax,\n",
    "             ['class_output_accuracy', 'superclass_output_accuracy', 'val_class_output_accuracy', 'val_superclass_output_accuracy'],\n",
    "             ['Class Train', 'Superclass Train', 'Class Test', 'Superclass Test'])"
   ]
  },
  {
   "cell_type": "code",
   "execution_count": 76,
   "metadata": {
    "id": "Llf9er4xDABk"
   },
   "outputs": [],
   "source": [
    "with open('./train_history/superclass_lowparams.hist', 'wb') as file_pi:\n",
    "        pickle.dump(results.history, file_pi)"
   ]
  },
  {
   "cell_type": "markdown",
   "metadata": {
    "id": "SzztNGf1DABl"
   },
   "source": [
    "## Build Low-Parameter Baseline Model"
   ]
  },
  {
   "cell_type": "code",
   "execution_count": 77,
   "metadata": {
    "id": "Lcz9BqeeDABl"
   },
   "outputs": [],
   "source": [
    "# Already defined\n",
    "main_input_base = Input(shape=(IM_WIDTH, IM_HEIGHT, 3, ), dtype='float32', name='image_input')\n",
    "#shared origin 1\n",
    "conv_leaf_base = Conv2D(32, (3, 3), padding = 'valid', activation = 'relu', name='shared_conv')(main_input_base)\n",
    "pooled_leaf_base = MaxPooling2D(pool_size =(2,2), name='shared_pool')(conv_leaf_base)\n",
    "\n",
    "\n",
    "# Not using\n",
    "# #leaf block 1\n",
    "# conv_leaf_1_2 = Conv2D(16, (3, 3), padding = 'valid', activation = 'relu', name='leaf_conv')(pooled_leaf_0)\n",
    "# pooled_leaf_1 = MaxPooling2D(pool_size =(2,2), name='leaf_pool')(conv_leaf_1_2)\n",
    "# dropped_leaf_1 = Dropout(0.10, name='leaf_conv_drop')(pooled_leaf_1)\n",
    "\n",
    "#disease block 1\n",
    "conv_disease_base = Conv2D(64, (3, 3), padding = 'valid', activation = 'relu', name='disease_conv')(pooled_leaf_base)\n",
    "pooled_disease_base = MaxPooling2D(pool_size =(2,2), name='disease_pool')(conv_disease_base)\n",
    "dropped_disease_base = Dropout(0.10, name='disease_conv_drop')(pooled_disease_base)\n",
    "\n",
    "# dense layer to predict disease [plant type+disease type]\n",
    "flat_disease_base = Flatten()(dropped_disease_base)\n",
    "dense_disease_base = Dense(64, activation = 'relu')(flat_disease_base)\n",
    "dense_disease_base_drop = Dropout(0.3)(dense_disease_base)\n",
    "\n",
    "disease_prediction_base = Dense(num_classes, activation = 'softmax', name='class_output')(dense_disease_base_drop)\n",
    "model_base = Model(inputs=[main_input_base], outputs=[disease_prediction_base])"
   ]
  },
  {
   "cell_type": "code",
   "execution_count": 78,
   "metadata": {
    "id": "sFNmYXw4DABl"
   },
   "outputs": [],
   "source": [
    "model_base.compile(loss='categorical_crossentropy',\n",
    "              optimizer=opt,\n",
    "              metrics=['accuracy'])"
   ]
  },
  {
   "cell_type": "code",
   "execution_count": 79,
   "metadata": {
    "id": "U9caHi4xDABl"
   },
   "outputs": [
    {
     "name": "stdout",
     "output_type": "stream",
     "text": [
      "Model: \"model_5\"\n",
      "_________________________________________________________________\n",
      " Layer (type)                Output Shape              Param #   \n",
      "=================================================================\n",
      " image_input (InputLayer)    [(None, 64, 64, 3)]       0         \n",
      "                                                                 \n",
      " shared_conv (Conv2D)        (None, 62, 62, 32)        896       \n",
      "                                                                 \n",
      " shared_pool (MaxPooling2D)  (None, 31, 31, 32)        0         \n",
      "                                                                 \n",
      " disease_conv (Conv2D)       (None, 29, 29, 64)        18496     \n",
      "                                                                 \n",
      " disease_pool (MaxPooling2D)  (None, 14, 14, 64)       0         \n",
      "                                                                 \n",
      " disease_conv_drop (Dropout)  (None, 14, 14, 64)       0         \n",
      "                                                                 \n",
      " flatten_10 (Flatten)        (None, 12544)             0         \n",
      "                                                                 \n",
      " dense_10 (Dense)            (None, 64)                802880    \n",
      "                                                                 \n",
      " dropout (Dropout)           (None, 64)                0         \n",
      "                                                                 \n",
      " class_output (Dense)        (None, 38)                2470      \n",
      "                                                                 \n",
      "=================================================================\n",
      "Total params: 824,742\n",
      "Trainable params: 824,742\n",
      "Non-trainable params: 0\n",
      "_________________________________________________________________\n"
     ]
    }
   ],
   "source": [
    "model_base.summary()"
   ]
  },
  {
   "cell_type": "code",
   "execution_count": 82,
   "metadata": {
    "id": "CzmxdYIcDABm"
   },
   "outputs": [],
   "source": [
    "# Set up callbacks\n",
    "model_name = \"base_of_superclass_lowparams\"\n",
    "filepath = EXPORT_DIR + model_name + \"{epoch:02d}.hdf5\"\n",
    "checkpoint = ModelCheckpoint(filepath, monitor='val_accuracy', mode='max', verbose=1, save_best_only=True)\n",
    "\n",
    "filepath = EXPORT_DIR + model_name + \".csv\"\n",
    "csv_logger = CSVLogger(filepath)\n",
    "\n",
    "callbacks_list = [checkpoint, reduce_lr, csv_logger]"
   ]
  },
  {
   "cell_type": "code",
   "execution_count": null,
   "metadata": {
    "id": "CfvLFxFkDABm",
    "scrolled": true
   },
   "outputs": [
    {
     "name": "stdout",
     "output_type": "stream",
     "text": [
      "Epoch 1/40\n",
      "500/500 [==============================] - ETA: 0s - loss: 2.6353 - accuracy: 0.2957\n",
      "Epoch 1: val_accuracy improved from -inf to 0.36713, saving model to ../models/base_of_superclass_lowparams.ckpt\n"
     ]
    },
    {
     "name": "stderr",
     "output_type": "stream",
     "text": [
      "WARNING:absl:Found untraced functions such as _jit_compiled_convolution_op, _jit_compiled_convolution_op while saving (showing 2 of 2). These functions will not be directly callable after loading.\n"
     ]
    },
    {
     "name": "stdout",
     "output_type": "stream",
     "text": [
      "INFO:tensorflow:Assets written to: ../models/base_of_superclass_lowparams.ckpt/assets\n"
     ]
    },
    {
     "name": "stderr",
     "output_type": "stream",
     "text": [
      "INFO:tensorflow:Assets written to: ../models/base_of_superclass_lowparams.ckpt/assets\n"
     ]
    },
    {
     "name": "stdout",
     "output_type": "stream",
     "text": [
      "500/500 [==============================] - 42s 85ms/step - loss: 2.6353 - accuracy: 0.2957 - val_loss: 2.3582 - val_accuracy: 0.3671 - lr: 2.0000e-04\n",
      "Epoch 2/40\n",
      "500/500 [==============================] - ETA: 0s - loss: 2.4643 - accuracy: 0.3300\n",
      "Epoch 2: val_accuracy improved from 0.36713 to 0.39913, saving model to ../models/base_of_superclass_lowparams.ckpt\n"
     ]
    },
    {
     "name": "stderr",
     "output_type": "stream",
     "text": [
      "WARNING:absl:Found untraced functions such as _jit_compiled_convolution_op, _jit_compiled_convolution_op while saving (showing 2 of 2). These functions will not be directly callable after loading.\n"
     ]
    },
    {
     "name": "stdout",
     "output_type": "stream",
     "text": [
      "INFO:tensorflow:Assets written to: ../models/base_of_superclass_lowparams.ckpt/assets\n"
     ]
    },
    {
     "name": "stderr",
     "output_type": "stream",
     "text": [
      "INFO:tensorflow:Assets written to: ../models/base_of_superclass_lowparams.ckpt/assets\n"
     ]
    },
    {
     "name": "stdout",
     "output_type": "stream",
     "text": [
      "500/500 [==============================] - 43s 85ms/step - loss: 2.4643 - accuracy: 0.3300 - val_loss: 2.1927 - val_accuracy: 0.3991 - lr: 2.0000e-04\n",
      "Epoch 3/40\n",
      "500/500 [==============================] - ETA: 0s - loss: 2.3180 - accuracy: 0.3620\n",
      "Epoch 3: val_accuracy improved from 0.39913 to 0.41000, saving model to ../models/base_of_superclass_lowparams.ckpt\n"
     ]
    },
    {
     "name": "stderr",
     "output_type": "stream",
     "text": [
      "WARNING:absl:Found untraced functions such as _jit_compiled_convolution_op, _jit_compiled_convolution_op while saving (showing 2 of 2). These functions will not be directly callable after loading.\n"
     ]
    },
    {
     "name": "stdout",
     "output_type": "stream",
     "text": [
      "INFO:tensorflow:Assets written to: ../models/base_of_superclass_lowparams.ckpt/assets\n"
     ]
    },
    {
     "name": "stderr",
     "output_type": "stream",
     "text": [
      "INFO:tensorflow:Assets written to: ../models/base_of_superclass_lowparams.ckpt/assets\n"
     ]
    },
    {
     "name": "stdout",
     "output_type": "stream",
     "text": [
      "500/500 [==============================] - 43s 85ms/step - loss: 2.3180 - accuracy: 0.3620 - val_loss: 2.1638 - val_accuracy: 0.4100 - lr: 2.0000e-04\n",
      "Epoch 4/40\n",
      "500/500 [==============================] - ETA: 0s - loss: 2.1961 - accuracy: 0.3918\n",
      "Epoch 4: val_accuracy improved from 0.41000 to 0.41137, saving model to ../models/base_of_superclass_lowparams.ckpt\n"
     ]
    },
    {
     "name": "stderr",
     "output_type": "stream",
     "text": [
      "WARNING:absl:Found untraced functions such as _jit_compiled_convolution_op, _jit_compiled_convolution_op while saving (showing 2 of 2). These functions will not be directly callable after loading.\n"
     ]
    },
    {
     "name": "stdout",
     "output_type": "stream",
     "text": [
      "INFO:tensorflow:Assets written to: ../models/base_of_superclass_lowparams.ckpt/assets\n"
     ]
    },
    {
     "name": "stderr",
     "output_type": "stream",
     "text": [
      "INFO:tensorflow:Assets written to: ../models/base_of_superclass_lowparams.ckpt/assets\n"
     ]
    },
    {
     "name": "stdout",
     "output_type": "stream",
     "text": [
      "500/500 [==============================] - 43s 85ms/step - loss: 2.1961 - accuracy: 0.3918 - val_loss: 2.1195 - val_accuracy: 0.4114 - lr: 2.0000e-04\n",
      "Epoch 5/40\n",
      "500/500 [==============================] - ETA: 0s - loss: 2.1022 - accuracy: 0.4144\n",
      "Epoch 5: val_accuracy improved from 0.41137 to 0.48063, saving model to ../models/base_of_superclass_lowparams.ckpt\n"
     ]
    },
    {
     "name": "stderr",
     "output_type": "stream",
     "text": [
      "WARNING:absl:Found untraced functions such as _jit_compiled_convolution_op, _jit_compiled_convolution_op while saving (showing 2 of 2). These functions will not be directly callable after loading.\n"
     ]
    },
    {
     "name": "stdout",
     "output_type": "stream",
     "text": [
      "INFO:tensorflow:Assets written to: ../models/base_of_superclass_lowparams.ckpt/assets\n"
     ]
    },
    {
     "name": "stderr",
     "output_type": "stream",
     "text": [
      "INFO:tensorflow:Assets written to: ../models/base_of_superclass_lowparams.ckpt/assets\n"
     ]
    },
    {
     "name": "stdout",
     "output_type": "stream",
     "text": [
      "500/500 [==============================] - 42s 85ms/step - loss: 2.1022 - accuracy: 0.4144 - val_loss: 1.8600 - val_accuracy: 0.4806 - lr: 2.0000e-04\n",
      "Epoch 6/40\n",
      "500/500 [==============================] - ETA: 0s - loss: 1.9987 - accuracy: 0.4369\n",
      "Epoch 6: val_accuracy improved from 0.48063 to 0.48475, saving model to ../models/base_of_superclass_lowparams.ckpt\n"
     ]
    },
    {
     "name": "stderr",
     "output_type": "stream",
     "text": [
      "WARNING:absl:Found untraced functions such as _jit_compiled_convolution_op, _jit_compiled_convolution_op while saving (showing 2 of 2). These functions will not be directly callable after loading.\n"
     ]
    },
    {
     "name": "stdout",
     "output_type": "stream",
     "text": [
      "INFO:tensorflow:Assets written to: ../models/base_of_superclass_lowparams.ckpt/assets\n"
     ]
    },
    {
     "name": "stderr",
     "output_type": "stream",
     "text": [
      "INFO:tensorflow:Assets written to: ../models/base_of_superclass_lowparams.ckpt/assets\n"
     ]
    },
    {
     "name": "stdout",
     "output_type": "stream",
     "text": [
      "500/500 [==============================] - 43s 86ms/step - loss: 1.9987 - accuracy: 0.4369 - val_loss: 1.8172 - val_accuracy: 0.4848 - lr: 2.0000e-04\n",
      "Epoch 7/40\n",
      "500/500 [==============================] - ETA: 0s - loss: 1.9473 - accuracy: 0.4511\n",
      "Epoch 7: val_accuracy did not improve from 0.48475\n",
      "500/500 [==============================] - 42s 84ms/step - loss: 1.9473 - accuracy: 0.4511 - val_loss: 1.8547 - val_accuracy: 0.4812 - lr: 2.0000e-04\n",
      "Epoch 8/40\n",
      "500/500 [==============================] - ETA: 0s - loss: 1.8795 - accuracy: 0.4616\n",
      "Epoch 8: val_accuracy did not improve from 0.48475\n",
      "500/500 [==============================] - 42s 83ms/step - loss: 1.8795 - accuracy: 0.4616 - val_loss: 1.8724 - val_accuracy: 0.4770 - lr: 2.0000e-04\n",
      "Epoch 9/40\n",
      "500/500 [==============================] - ETA: 0s - loss: 1.8403 - accuracy: 0.4694\n",
      "Epoch 9: val_accuracy improved from 0.48475 to 0.49788, saving model to ../models/base_of_superclass_lowparams.ckpt\n"
     ]
    },
    {
     "name": "stderr",
     "output_type": "stream",
     "text": [
      "WARNING:absl:Found untraced functions such as _jit_compiled_convolution_op, _jit_compiled_convolution_op while saving (showing 2 of 2). These functions will not be directly callable after loading.\n"
     ]
    },
    {
     "name": "stdout",
     "output_type": "stream",
     "text": [
      "INFO:tensorflow:Assets written to: ../models/base_of_superclass_lowparams.ckpt/assets\n"
     ]
    },
    {
     "name": "stderr",
     "output_type": "stream",
     "text": [
      "INFO:tensorflow:Assets written to: ../models/base_of_superclass_lowparams.ckpt/assets\n"
     ]
    },
    {
     "name": "stdout",
     "output_type": "stream",
     "text": [
      "500/500 [==============================] - 43s 85ms/step - loss: 1.8403 - accuracy: 0.4694 - val_loss: 1.7861 - val_accuracy: 0.4979 - lr: 2.0000e-04\n",
      "Epoch 10/40\n",
      "339/500 [===================>..........] - ETA: 10s - loss: 1.7927 - accuracy: 0.4779"
     ]
    }
   ],
   "source": [
    "# Fit generator\n",
    "results_base = model_base.fit_generator( train_generator, epochs=40, steps_per_epoch=500, \n",
    "    validation_data=validation_generator, validation_steps=500, callbacks=callbacks_list)"
   ]
  },
  {
   "cell_type": "code",
   "execution_count": null,
   "metadata": {
    "id": "U8hqgRaNDABm"
   },
   "outputs": [],
   "source": [
    "with open('./train_history/baseclass_lowparams.hist', 'wb') as file_pi:\n",
    "        pickle.dump(results_base.history, file_pi)"
   ]
  },
  {
   "cell_type": "code",
   "execution_count": null,
   "metadata": {
    "collapsed": true,
    "id": "GPYYf0ffDABm"
   },
   "outputs": [],
   "source": [
    "fig, ax = plt.subplots(figsize=(10,6))\n",
    "plot_history(results_base.history, ax,\n",
    "             ['accuracy', 'val_accuracy'],\n",
    "             ['Base Train', 'Base Test'])"
   ]
  },
  {
   "cell_type": "code",
   "execution_count": null,
   "metadata": {
    "collapsed": true,
    "id": "kWmfYWJvDABm"
   },
   "outputs": [],
   "source": [
    "fig, ax = plt.subplots(figsize=(10,6))\n",
    "plot_history(results.history, ax,\n",
    "             ['class_output_accuracy', 'val_class_output_accuracy', 'superclass_output_accuracy', 'val_superclass_output_accuracy'],\n",
    "             ['Superclass Disease Train', 'Superclass Disease Test', 'Superclass Leaf Train', 'Superclass Leaf Test'])\n",
    "plot_history(results_base.history, ax,\n",
    "             ['accuracy', 'val_accuracy'],\n",
    "             ['Base Disease Train', 'Base Disease Test'])\n",
    "\n",
    "fig.savefig(\"./images/superclass_comparison_lowres_full.png\")"
   ]
  },
  {
   "cell_type": "code",
   "execution_count": null,
   "metadata": {
    "id": "CwGvKfIcDABn"
   },
   "outputs": [],
   "source": [
    "fig, ax = plt.subplots(figsize=(10,6))\n",
    "plot_history(results.history, ax,\n",
    "             ['val_class_output_accuracy', 'val_superclass_output_accuracy'],\n",
    "             ['Superclass Disease', 'Superclass Leaf'])\n",
    "plot_history(results_base.history, ax,\n",
    "             ['val_accuracy'],\n",
    "             ['Base Disease'], yaxis_label=\"Validation Accuracy\")\n",
    "\n",
    "fig.savefig(\"./images/superclass_comparison_lowres.png\")"
   ]
  },
  {
   "cell_type": "markdown",
   "metadata": {
    "id": "UMVLkpmKDABn"
   },
   "source": [
    "## Build High-Parameter Baseline Model"
   ]
  },
  {
   "cell_type": "code",
   "execution_count": null,
   "metadata": {
    "id": "q2nqKTdWDABn"
   },
   "outputs": [],
   "source": [
    "# Already defined\n",
    "main_input_base2 = Input(shape=(IM_WIDTH, IM_HEIGHT, 3, ), dtype='float32', name='image_input')\n",
    "#shared origin 1\n",
    "conv_leaf_base2 = Conv2D(128, (3, 3), padding = 'valid', activation = 'relu', name='shared_conv')(main_input_base2)\n",
    "pooled_leaf_base2 = MaxPooling2D(pool_size =(2,2), name='shared_pool')(conv_leaf_base2)\n",
    "\n",
    "#disease block 1\n",
    "conv_disease_base2 = Conv2D(128, (3, 3), padding = 'valid', activation = 'relu', name='disease_conv')(pooled_leaf_base2)\n",
    "pooled_disease_base2 = MaxPooling2D(pool_size =(2,2), name='disease_pool')(conv_disease_base2)\n",
    "dropped_disease_base2 = Dropout(0.10, name='disease_conv_drop')(pooled_disease_base2)\n",
    "\n",
    "# dense layer to predict disease [plant type+disease type]\n",
    "flat_disease_base2 = Flatten()(dropped_disease_base2)\n",
    "dense_disease_base2 = Dense(128, activation = 'relu')(flat_disease_base2)\n",
    "dense_disease_base_drop2 = Dropout(0.3)(dense_disease_base2)\n",
    "\n",
    "disease_prediction_base2 = Dense(num_classes, activation = 'softmax', name='class_output')(dense_disease_base_drop2)\n",
    "model_base2 = Model(inputs=[main_input_base2], outputs=[disease_prediction_base2])"
   ]
  },
  {
   "cell_type": "code",
   "execution_count": null,
   "metadata": {
    "id": "AAmqQle4DABn"
   },
   "outputs": [],
   "source": [
    "model_base2.summary()"
   ]
  },
  {
   "cell_type": "code",
   "execution_count": null,
   "metadata": {
    "id": "JfqrIXXRDABn"
   },
   "outputs": [],
   "source": [
    "model_base2.compile(loss='categorical_crossentropy', optimizer=opt, metrics=['accuracy'])"
   ]
  },
  {
   "cell_type": "code",
   "execution_count": null,
   "metadata": {
    "id": "s6y3RfrvDABo"
   },
   "outputs": [],
   "source": [
    "# Set up callbacks\n",
    "model_name = \"base_of_superclass_highparam_model\"\n",
    "filepath = EXPORT_DIR + model_name + \".hdf5\"\n",
    "checkpoint = ModelCheckpoint(filepath, monitor='val_accuracy', mode='max', verbose=1, save_best_only=True)\n",
    "\n",
    "filepath = EXPORT_DIR + model_name + \".csv\"\n",
    "csv_logger = CSVLogger(filepath)\n",
    "callbacks_list = [checkpoint, reduce_lr, csv_logger]"
   ]
  },
  {
   "cell_type": "code",
   "execution_count": null,
   "metadata": {
    "id": "-BYMawQrDABo",
    "scrolled": true
   },
   "outputs": [],
   "source": [
    "# Fit generator\n",
    "results_base2 = model_base2.fit_generator( train_generator, epochs=40, steps_per_epoch=500, \n",
    "    validation_data=validation_generator, validation_steps=500, callbacks=callbacks_list)"
   ]
  },
  {
   "cell_type": "code",
   "execution_count": null,
   "metadata": {
    "id": "gibFasvuDABo",
    "scrolled": false
   },
   "outputs": [],
   "source": [
    "fig, ax = plt.subplots(figsize=(10,6))\n",
    "plot_history(results_base2.history, ax,\n",
    "             ['accuracy', 'val_accuracy'],\n",
    "             ['Base Train', 'Base Test'])"
   ]
  },
  {
   "cell_type": "code",
   "execution_count": null,
   "metadata": {
    "id": "2-9hDfQwDABo"
   },
   "outputs": [],
   "source": [
    "with open('./train_history/baseclass_highparams.hist', 'wb') as file_pi:\n",
    "        pickle.dump(results_base2.history, file_pi)"
   ]
  },
  {
   "cell_type": "markdown",
   "metadata": {
    "id": "CaUsJ2ezDABo"
   },
   "source": [
    "## Build High-Parameter Baseline Model"
   ]
  },
  {
   "cell_type": "code",
   "execution_count": null,
   "metadata": {
    "id": "oCUSEjdODABp"
   },
   "outputs": [],
   "source": [
    "main_input_super2 = Input(shape=(IM_WIDTH, IM_HEIGHT, 3, ), dtype='float32', name='image_input')\n",
    "\n",
    "#shared origin 1\n",
    "conv_super2 = Conv2D(128, (3, 3), padding = 'valid', activation = 'relu', name='shared_conv')(main_input_super2)\n",
    "pooled_super2 = MaxPooling2D(pool_size =(2,2), name='shared_pool')(conv_super2)\n",
    "\n",
    "#leaf block 1\n",
    "conv_leaf_super2 = Conv2D(32, (3, 3), padding = 'valid', activation = 'relu', name='leaf_conv')(pooled_super2)\n",
    "pooled_leaf_super2 = MaxPooling2D(pool_size =(2,2), name='leaf_pool')(conv_leaf_super2)\n",
    "dropped_leaf_super2 = Dropout(0.10, name='leaf_conv_drop')(pooled_leaf_super2)\n",
    "\n",
    "#disease block 1\n",
    "conv_disease_super2 = Conv2D(128, (3, 3), padding = 'valid', activation = 'relu', name='disease_conv')(pooled_super2)\n",
    "pooled_disease_super2 = MaxPooling2D(pool_size =(2,2), name='disease_pool')(conv_disease_super2)\n",
    "dropped_disease_super2 = Dropout(0.10, name='disease_conv_drop')(pooled_disease_super2)\n",
    "\n",
    "#dense layer to predict leaf [plant type]\n",
    "flat_leaf_super2 = Flatten()(dropped_leaf_super2)\n",
    "dense_leaf_super2 = Dense(64, activation = 'relu')(flat_leaf_super2) # Using less layers here as accuracy is less important\n",
    "dense_leaf_drop_super2 = Dropout(0.3, name='leaf_dense_drop')(dense_leaf_super2)\n",
    "leaf_prediction_super2 = Dense(num_superclasses, activation = 'softmax', name='superclass_output')(dense_leaf_drop_super2)\n",
    "\n",
    "# dense layer to predict disease [plant type+disease type]\n",
    "flat_disease_super2 = Flatten()(dropped_disease_super2)\n",
    "dense_disease_super2 = Dense(128, activation = 'relu')(flat_disease_super2)\n",
    "\n",
    "# combine networks and perform final categorization\n",
    "combined_dense_disease_super2 = concatenate([dense_disease_super2, leaf_prediction_super2], axis=-1, name='final_combined')\n",
    "dense_disease_drop_super2 = Dropout(0.3, name='final_drop')(combined_dense_disease_super2)\n",
    "\n",
    "disease_prediction_super2 = Dense(num_classes, activation = 'softmax', name='class_output')(dense_disease_drop_super2)\n",
    "model_superclass_2 = Model(inputs=[main_input_super2], outputs=[disease_prediction_super2, leaf_prediction_super2])"
   ]
  },
  {
   "cell_type": "code",
   "execution_count": null,
   "metadata": {
    "id": "vmefSZPKDABp",
    "scrolled": true
   },
   "outputs": [],
   "source": [
    "model_superclass_2.summary()"
   ]
  },
  {
   "cell_type": "code",
   "execution_count": null,
   "metadata": {
    "id": "JtRFl3ftDABp"
   },
   "outputs": [],
   "source": [
    "# Compile model\n",
    "model_superclass_2.compile(loss='categorical_crossentropy', optimizer=opt, metrics=['accuracy'])"
   ]
  },
  {
   "cell_type": "code",
   "execution_count": null,
   "metadata": {
    "id": "G_yuNly_DABp"
   },
   "outputs": [],
   "source": [
    "# Set up callbacks\n",
    "model_name = \"superclass_model_highparams\"\n",
    "filepath = EXPORT_DIR + model_name + \".hdf5\"\n",
    "checkpoint = ModelCheckpoint(filepath, monitor='val_accuracy', mode='max', verbose=1, save_best_only=True)\n",
    "\n",
    "filepath = EXPORT_DIR + model_name + \".csv\"\n",
    "csv_logger = CSVLogger(filepath)\n",
    "\n",
    "callbacks_list = [checkpoint, reduce_lr, csv_logger]"
   ]
  },
  {
   "cell_type": "code",
   "execution_count": null,
   "metadata": {
    "id": "6CTIP4waDABq",
    "scrolled": false
   },
   "outputs": [],
   "source": [
    "# Fit generator\n",
    "results_superclass2 = model_superclass_2.fit_generator(\n",
    "    wills_two_label_generator(train_generator, class_id2superclass_id),\n",
    "    epochs=40,\n",
    "    steps_per_epoch=500, \n",
    "    validation_data=wills_two_label_generator(validation_generator, class_id2superclass_id),\n",
    "    validation_steps=500,\n",
    "    callbacks=callbacks_list)"
   ]
  },
  {
   "cell_type": "code",
   "execution_count": null,
   "metadata": {
    "id": "EjgnodxhDABq"
   },
   "outputs": [],
   "source": [
    "fig, ax = plt.subplots(figsize=(10,6))\n",
    "plot_learning_curve(results_superclass2, ax)"
   ]
  },
  {
   "cell_type": "code",
   "execution_count": null,
   "metadata": {
    "id": "6hURFg-7DABq"
   },
   "outputs": [],
   "source": [
    "with open('./train_history/superclass_highparams.hist', 'wb') as file_pi:\n",
    "        pickle.dump(results_superclass2.history, file_pi)"
   ]
  },
  {
   "cell_type": "code",
   "execution_count": null,
   "metadata": {
    "id": "ZbNMIqZhDABq"
   },
   "outputs": [],
   "source": [
    "results_superclass2_load = pickle.load( open('./train_history/superclass_highparams.hist', \"rb\" ) )"
   ]
  },
  {
   "cell_type": "code",
   "execution_count": null,
   "metadata": {
    "id": "FX7KqUjsDABr"
   },
   "outputs": [],
   "source": [
    "type(results_superclass2.history)"
   ]
  },
  {
   "cell_type": "code",
   "execution_count": null,
   "metadata": {
    "id": "aFxh-4M0DABr"
   },
   "outputs": [],
   "source": [
    "results_superclass2_load.keys()"
   ]
  },
  {
   "cell_type": "code",
   "execution_count": null,
   "metadata": {
    "id": "KUhrtY4sDABr",
    "scrolled": true
   },
   "outputs": [],
   "source": [
    "fig, ax = plt.subplots(figsize=(10,6))\n",
    "plot_history(results_superclass2_load, ax, \n",
    "             categories=['val_class_output_accuracy', 'val_superclass_output_accuracy'], \n",
    "             labels=['Class Test', 'Superclass Test'])"
   ]
  }
 ],
 "metadata": {
  "accelerator": "GPU",
  "colab": {
   "name": "superclass_learning.ipynb",
   "provenance": []
  },
  "gpuClass": "standard",
  "kernelspec": {
   "display_name": "Python 3 (ipykernel)",
   "language": "python",
   "name": "python3"
  },
  "language_info": {
   "codemirror_mode": {
    "name": "ipython",
    "version": 3
   },
   "file_extension": ".py",
   "mimetype": "text/x-python",
   "name": "python",
   "nbconvert_exporter": "python",
   "pygments_lexer": "ipython3",
   "version": "3.8.5"
  }
 },
 "nbformat": 4,
 "nbformat_minor": 1
}
